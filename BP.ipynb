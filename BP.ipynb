{
  "cells": [
    {
      "cell_type": "markdown",
      "metadata": {
        "id": "view-in-github",
        "colab_type": "text"
      },
      "source": [
        "<a href=\"https://colab.research.google.com/github/M12feiz/Machine-Learning-Model-for-Non-Invasive-Blood-Pressure-Estimation/blob/main/BP.ipynb\" target=\"_parent\"><img src=\"https://colab.research.google.com/assets/colab-badge.svg\" alt=\"Open In Colab\"/></a>"
      ]
    },
    {
      "cell_type": "code",
      "execution_count": null,
      "metadata": {
        "colab": {
          "background_save": true
        },
        "id": "94811748"
      },
      "outputs": [],
      "source": [
        "import pandas as pd\n",
        "from sklearn.model_selection import train_test_split\n",
        "from sklearn.tree import DecisionTreeRegressor\n",
        "from sklearn.preprocessing import MinMaxScaler\n",
        "from sklearn.metrics import r2_score,mean_squared_error\n",
        "from keras.models import Sequential\n",
        "import numpy as np\n",
        "from keras.layers import Dense, Conv1D, Flatten\n",
        "import matplotlib.pyplot as plt\n",
        "import warnings\n",
        "import seaborn as sns\n",
        "warnings.filterwarnings('ignore')"
      ],
      "id": "94811748"
    },
    {
      "cell_type": "code",
      "execution_count": null,
      "metadata": {
        "colab": {
          "base_uri": "https://localhost:8080/"
        },
        "id": "D2fRV1zILp-x",
        "outputId": "330ae239-f5bc-4452-ce65-33a056ce380a"
      },
      "outputs": [
        {
          "name": "stdout",
          "output_type": "stream",
          "text": [
            "Mounted at /content/drive\n"
          ]
        }
      ],
      "source": [
        "from google.colab import drive\n",
        "drive.mount('/content/drive', force_remount=True)"
      ],
      "id": "D2fRV1zILp-x"
    },
    {
      "cell_type": "code",
      "execution_count": null,
      "metadata": {
        "colab": {
          "base_uri": "https://localhost:8080/"
        },
        "id": "qMxaONGML9VM",
        "outputId": "20c56074-e7d3-4508-d5b6-fedec3675a9a"
      },
      "outputs": [
        {
          "name": "stdout",
          "output_type": "stream",
          "text": [
            "/content/drive\n"
          ]
        }
      ],
      "source": [
        "cd drive/"
      ],
      "id": "qMxaONGML9VM"
    },
    {
      "cell_type": "code",
      "execution_count": null,
      "metadata": {
        "colab": {
          "base_uri": "https://localhost:8080/"
        },
        "id": "cey6K2xGMA0B",
        "outputId": "13674d98-a76d-4a0b-df8a-ee5b09c3a830"
      },
      "outputs": [
        {
          "name": "stdout",
          "output_type": "stream",
          "text": [
            "/content/drive/MyDrive\n"
          ]
        }
      ],
      "source": [
        "cd MyDrive/"
      ],
      "id": "cey6K2xGMA0B"
    },
    {
      "cell_type": "code",
      "execution_count": null,
      "metadata": {
        "colab": {
          "base_uri": "https://localhost:8080/"
        },
        "id": "EDpFZZuOMCcF",
        "outputId": "05c7797a-549a-4f34-c3d1-ef59f91b3fb3"
      },
      "outputs": [
        {
          "name": "stdout",
          "output_type": "stream",
          "text": [
            "/content/drive/MyDrive/FYP\n"
          ]
        }
      ],
      "source": [
        "cd FYP/\n"
      ],
      "id": "EDpFZZuOMCcF"
    },
    {
      "cell_type": "code",
      "execution_count": null,
      "metadata": {
        "id": "1337e07d"
      },
      "outputs": [],
      "source": [
        "df = pd.read_csv('data.csv')\n",
        "df = df.drop(['Unnamed: 0'], axis = 1)"
      ],
      "id": "1337e07d"
    },
    {
      "cell_type": "code",
      "execution_count": null,
      "metadata": {
        "id": "7WtLJaLALoLB"
      },
      "outputs": [],
      "source": [],
      "id": "7WtLJaLALoLB"
    },
    {
      "cell_type": "code",
      "execution_count": null,
      "metadata": {
        "colab": {
          "base_uri": "https://localhost:8080/",
          "height": 206
        },
        "id": "e9707730",
        "outputId": "8be04c59-cbb2-4436-d732-4f0218d417ce"
      },
      "outputs": [
        {
          "data": {
            "text/html": [
              "\n",
              "  <div id=\"df-40fc38a8-e1e2-4a26-9d84-83544a0018a5\">\n",
              "    <div class=\"colab-df-container\">\n",
              "      <div>\n",
              "<style scoped>\n",
              "    .dataframe tbody tr th:only-of-type {\n",
              "        vertical-align: middle;\n",
              "    }\n",
              "\n",
              "    .dataframe tbody tr th {\n",
              "        vertical-align: top;\n",
              "    }\n",
              "\n",
              "    .dataframe thead th {\n",
              "        text-align: right;\n",
              "    }\n",
              "</style>\n",
              "<table border=\"1\" class=\"dataframe\">\n",
              "  <thead>\n",
              "    <tr style=\"text-align: right;\">\n",
              "      <th></th>\n",
              "      <th>Age</th>\n",
              "      <th>Spo2</th>\n",
              "      <th>HeartRate</th>\n",
              "      <th>BodyTemp</th>\n",
              "      <th>SystolicBP</th>\n",
              "      <th>DiastolicBP</th>\n",
              "    </tr>\n",
              "  </thead>\n",
              "  <tbody>\n",
              "    <tr>\n",
              "      <th>0</th>\n",
              "      <td>25</td>\n",
              "      <td>95</td>\n",
              "      <td>86</td>\n",
              "      <td>98.0</td>\n",
              "      <td>130</td>\n",
              "      <td>80</td>\n",
              "    </tr>\n",
              "    <tr>\n",
              "      <th>1</th>\n",
              "      <td>35</td>\n",
              "      <td>95</td>\n",
              "      <td>70</td>\n",
              "      <td>98.0</td>\n",
              "      <td>140</td>\n",
              "      <td>90</td>\n",
              "    </tr>\n",
              "    <tr>\n",
              "      <th>2</th>\n",
              "      <td>29</td>\n",
              "      <td>95</td>\n",
              "      <td>80</td>\n",
              "      <td>100.0</td>\n",
              "      <td>90</td>\n",
              "      <td>70</td>\n",
              "    </tr>\n",
              "    <tr>\n",
              "      <th>3</th>\n",
              "      <td>30</td>\n",
              "      <td>95</td>\n",
              "      <td>70</td>\n",
              "      <td>98.0</td>\n",
              "      <td>140</td>\n",
              "      <td>85</td>\n",
              "    </tr>\n",
              "    <tr>\n",
              "      <th>4</th>\n",
              "      <td>35</td>\n",
              "      <td>98</td>\n",
              "      <td>76</td>\n",
              "      <td>98.0</td>\n",
              "      <td>120</td>\n",
              "      <td>60</td>\n",
              "    </tr>\n",
              "  </tbody>\n",
              "</table>\n",
              "</div>\n",
              "      <button class=\"colab-df-convert\" onclick=\"convertToInteractive('df-40fc38a8-e1e2-4a26-9d84-83544a0018a5')\"\n",
              "              title=\"Convert this dataframe to an interactive table.\"\n",
              "              style=\"display:none;\">\n",
              "        \n",
              "  <svg xmlns=\"http://www.w3.org/2000/svg\" height=\"24px\"viewBox=\"0 0 24 24\"\n",
              "       width=\"24px\">\n",
              "    <path d=\"M0 0h24v24H0V0z\" fill=\"none\"/>\n",
              "    <path d=\"M18.56 5.44l.94 2.06.94-2.06 2.06-.94-2.06-.94-.94-2.06-.94 2.06-2.06.94zm-11 1L8.5 8.5l.94-2.06 2.06-.94-2.06-.94L8.5 2.5l-.94 2.06-2.06.94zm10 10l.94 2.06.94-2.06 2.06-.94-2.06-.94-.94-2.06-.94 2.06-2.06.94z\"/><path d=\"M17.41 7.96l-1.37-1.37c-.4-.4-.92-.59-1.43-.59-.52 0-1.04.2-1.43.59L10.3 9.45l-7.72 7.72c-.78.78-.78 2.05 0 2.83L4 21.41c.39.39.9.59 1.41.59.51 0 1.02-.2 1.41-.59l7.78-7.78 2.81-2.81c.8-.78.8-2.07 0-2.86zM5.41 20L4 18.59l7.72-7.72 1.47 1.35L5.41 20z\"/>\n",
              "  </svg>\n",
              "      </button>\n",
              "      \n",
              "  <style>\n",
              "    .colab-df-container {\n",
              "      display:flex;\n",
              "      flex-wrap:wrap;\n",
              "      gap: 12px;\n",
              "    }\n",
              "\n",
              "    .colab-df-convert {\n",
              "      background-color: #E8F0FE;\n",
              "      border: none;\n",
              "      border-radius: 50%;\n",
              "      cursor: pointer;\n",
              "      display: none;\n",
              "      fill: #1967D2;\n",
              "      height: 32px;\n",
              "      padding: 0 0 0 0;\n",
              "      width: 32px;\n",
              "    }\n",
              "\n",
              "    .colab-df-convert:hover {\n",
              "      background-color: #E2EBFA;\n",
              "      box-shadow: 0px 1px 2px rgba(60, 64, 67, 0.3), 0px 1px 3px 1px rgba(60, 64, 67, 0.15);\n",
              "      fill: #174EA6;\n",
              "    }\n",
              "\n",
              "    [theme=dark] .colab-df-convert {\n",
              "      background-color: #3B4455;\n",
              "      fill: #D2E3FC;\n",
              "    }\n",
              "\n",
              "    [theme=dark] .colab-df-convert:hover {\n",
              "      background-color: #434B5C;\n",
              "      box-shadow: 0px 1px 3px 1px rgba(0, 0, 0, 0.15);\n",
              "      filter: drop-shadow(0px 1px 2px rgba(0, 0, 0, 0.3));\n",
              "      fill: #FFFFFF;\n",
              "    }\n",
              "  </style>\n",
              "\n",
              "      <script>\n",
              "        const buttonEl =\n",
              "          document.querySelector('#df-40fc38a8-e1e2-4a26-9d84-83544a0018a5 button.colab-df-convert');\n",
              "        buttonEl.style.display =\n",
              "          google.colab.kernel.accessAllowed ? 'block' : 'none';\n",
              "\n",
              "        async function convertToInteractive(key) {\n",
              "          const element = document.querySelector('#df-40fc38a8-e1e2-4a26-9d84-83544a0018a5');\n",
              "          const dataTable =\n",
              "            await google.colab.kernel.invokeFunction('convertToInteractive',\n",
              "                                                     [key], {});\n",
              "          if (!dataTable) return;\n",
              "\n",
              "          const docLinkHtml = 'Like what you see? Visit the ' +\n",
              "            '<a target=\"_blank\" href=https://colab.research.google.com/notebooks/data_table.ipynb>data table notebook</a>'\n",
              "            + ' to learn more about interactive tables.';\n",
              "          element.innerHTML = '';\n",
              "          dataTable['output_type'] = 'display_data';\n",
              "          await google.colab.output.renderOutput(dataTable, element);\n",
              "          const docLink = document.createElement('div');\n",
              "          docLink.innerHTML = docLinkHtml;\n",
              "          element.appendChild(docLink);\n",
              "        }\n",
              "      </script>\n",
              "    </div>\n",
              "  </div>\n",
              "  "
            ],
            "text/plain": [
              "   Age  Spo2  HeartRate  BodyTemp  SystolicBP  DiastolicBP\n",
              "0   25    95         86      98.0         130           80\n",
              "1   35    95         70      98.0         140           90\n",
              "2   29    95         80     100.0          90           70\n",
              "3   30    95         70      98.0         140           85\n",
              "4   35    98         76      98.0         120           60"
            ]
          },
          "execution_count": 7,
          "metadata": {},
          "output_type": "execute_result"
        }
      ],
      "source": [
        "df.head()"
      ],
      "id": "e9707730"
    },
    {
      "cell_type": "code",
      "execution_count": null,
      "metadata": {
        "colab": {
          "base_uri": "https://localhost:8080/",
          "height": 350
        },
        "id": "f20933d2",
        "outputId": "c6f81cbb-518a-4d46-b5a6-f772f884368f"
      },
      "outputs": [
        {
          "data": {
            "image/png": "[encoded data removed]",
            "text/plain": [
              "<Figure size 1080x360 with 1 Axes>"
            ]
          },
          "metadata": {},
          "output_type": "display_data"
        }
      ],
      "source": [
        "plt.figure(figsize=(15,5))\n",
        "sns.countplot(x = 'HeartRate', data = df)\n",
        "plt.title('Count of HeartRate')\n",
        "plt.show()"
      ],
      "id": "f20933d2"
    },
    {
      "cell_type": "code",
      "execution_count": null,
      "metadata": {
        "colab": {
          "base_uri": "https://localhost:8080/",
          "height": 350
        },
        "id": "254f8013",
        "outputId": "3beac01c-e893-4b54-d9ca-581a337e7a45"
      },
      "outputs": [
        {
          "data": {
            "image/png": "[encoded data removed]",
            "text/plain": [
              "<Figure size 1080x360 with 1 Axes>"
            ]
          },
          "metadata": {},
          "output_type": "display_data"
        }
      ],
      "source": [
        "plt.figure(figsize=(15,5))\n",
        "sns.countplot(x = 'DiastolicBP', data = df)\n",
        "plt.title('Count of DiastolicBP')\n",
        "plt.show()"
      ],
      "id": "254f8013"
    },
    {
      "cell_type": "code",
      "execution_count": null,
      "metadata": {
        "colab": {
          "base_uri": "https://localhost:8080/",
          "height": 350
        },
        "id": "37b83ee8",
        "outputId": "a97637f4-449f-44c3-91d2-f4c9254223bc"
      },
      "outputs": [
        {
          "data": {
            "image/png": "[encoded data removed]",
            "text/plain": [
              "<Figure size 1080x360 with 1 Axes>"
            ]
          },
          "metadata": {},
          "output_type": "display_data"
        }
      ],
      "source": [
        "plt.figure(figsize=(15,5))\n",
        "sns.countplot(x = 'Age', data = df)\n",
        "plt.title('Count of Age')\n",
        "plt.show()"
      ],
      "id": "37b83ee8"
    },
    {
      "cell_type": "code",
      "execution_count": null,
      "metadata": {
        "colab": {
          "base_uri": "https://localhost:8080/",
          "height": 350
        },
        "id": "b4949e9e",
        "outputId": "b8514233-83ba-4201-b864-502d38359c66"
      },
      "outputs": [
        {
          "data": {
            "image/png": "[encoded data removed]",
            "text/plain": [
              "<Figure size 1080x360 with 1 Axes>"
            ]
          },
          "metadata": {},
          "output_type": "display_data"
        }
      ],
      "source": [
        "plt.figure(figsize=(15,5))\n",
        "sns.countplot(x = 'SystolicBP', data = df )\n",
        "plt.title('Count of SystolicBP')\n",
        "plt.show()"
      ],
      "id": "b4949e9e"
    },
    {
      "cell_type": "code",
      "execution_count": null,
      "metadata": {
        "colab": {
          "base_uri": "https://localhost:8080/",
          "height": 350
        },
        "id": "2ce15fef",
        "outputId": "8e0347f0-62e1-4354-c8da-46b1fc79b4d8"
      },
      "outputs": [
        {
          "data": {
            "image/png": "[encoded data removed]",
            "text/plain": [
              "<Figure size 1080x360 with 1 Axes>"
            ]
          },
          "metadata": {},
          "output_type": "display_data"
        }
      ],
      "source": [
        "plt.figure(figsize=(15,5))\n",
        "sns.countplot(x = 'Spo2', data = df )\n",
        "plt.title('Count of Spo2')\n",
        "plt.show()"
      ],
      "id": "2ce15fef"
    },
    {
      "cell_type": "code",
      "execution_count": null,
      "metadata": {
        "colab": {
          "base_uri": "https://localhost:8080/",
          "height": 983
        },
        "id": "22f2c07b",
        "outputId": "57f56a17-1d9e-4f62-86a7-a90a6c64f9d4"
      },
      "outputs": [
        {
          "data": {
            "text/plain": [
              "array([[<AxesSubplot:title={'center':'Age'}>,\n",
              "        <AxesSubplot:title={'center':'Spo2'}>],\n",
              "       [<AxesSubplot:title={'center':'HeartRate'}>,\n",
              "        <AxesSubplot:title={'center':'BodyTemp'}>],\n",
              "       [<AxesSubplot:title={'center':'SystolicBP'}>,\n",
              "        <AxesSubplot:title={'center':'DiastolicBP'}>]], dtype=object)"
            ]
          },
          "execution_count": 13,
          "metadata": {},
          "output_type": "execute_result"
        },
        {
          "data": {
            "image/png": "[encoded data removed]",
            "text/plain": [
              "<Figure size 1080x1080 with 6 Axes>"
            ]
          },
          "metadata": {},
          "output_type": "display_data"
        }
      ],
      "source": [
        "df.hist(figsize=(15,15))"
      ],
      "id": "22f2c07b"
    },
    {
      "cell_type": "code",
      "execution_count": null,
      "metadata": {
        "colab": {
          "base_uri": "https://localhost:8080/",
          "height": 332
        },
        "id": "6285a2c7",
        "outputId": "74f13ed9-5baf-4581-cc5b-378b18703998"
      },
      "outputs": [
        {
          "data": {
            "text/plain": [
              "<AxesSubplot:>"
            ]
          },
          "execution_count": 14,
          "metadata": {},
          "output_type": "execute_result"
        },
        {
          "data": {
            "image/png": "[encoded data removed]",
            "text/plain": [
              "<Figure size 432x288 with 2 Axes>"
            ]
          },
          "metadata": {},
          "output_type": "display_data"
        }
      ],
      "source": [
        "sns.heatmap(df.corr(), annot=True)"
      ],
      "id": "6285a2c7"
    },
    {
      "cell_type": "code",
      "execution_count": null,
      "metadata": {
        "id": "90d0cfce"
      },
      "outputs": [],
      "source": [
        "X = df.drop(['SystolicBP','DiastolicBP'],axis = 1)\n",
        "y = df[['SystolicBP', 'DiastolicBP']]"
      ],
      "id": "90d0cfce"
    },
    {
      "cell_type": "code",
      "execution_count": null,
      "metadata": {
        "id": "7b55e866"
      },
      "outputs": [],
      "source": [
        "X_columns = X.columns"
      ],
      "id": "7b55e866"
    },
    {
      "cell_type": "code",
      "execution_count": null,
      "metadata": {
        "id": "9799df92"
      },
      "outputs": [],
      "source": [
        "#X = MinMaxScaler().fit_transform(X) #Normalization with MinMax"
      ],
      "id": "9799df92"
    },
    {
      "cell_type": "code",
      "execution_count": null,
      "metadata": {
        "id": "451f6971"
      },
      "outputs": [],
      "source": [
        "X_train, X_test, y_train, y_test = train_test_split(X, y, test_size = 0.2, random_state = 0)"
      ],
      "id": "451f6971"
    },
    {
      "cell_type": "code",
      "execution_count": null,
      "metadata": {
        "colab": {
          "base_uri": "https://localhost:8080/",
          "height": 423
        },
        "id": "222bf2bd",
        "outputId": "57fe304b-0a07-4f12-aa02-5346d172f94a"
      },
      "outputs": [
        {
          "data": {
            "text/html": [
              "\n",
              "  <div id=\"df-cb539529-a31b-45ef-afe0-da7c73c5ec42\">\n",
              "    <div class=\"colab-df-container\">\n",
              "      <div>\n",
              "<style scoped>\n",
              "    .dataframe tbody tr th:only-of-type {\n",
              "        vertical-align: middle;\n",
              "    }\n",
              "\n",
              "    .dataframe tbody tr th {\n",
              "        vertical-align: top;\n",
              "    }\n",
              "\n",
              "    .dataframe thead th {\n",
              "        text-align: right;\n",
              "    }\n",
              "</style>\n",
              "<table border=\"1\" class=\"dataframe\">\n",
              "  <thead>\n",
              "    <tr style=\"text-align: right;\">\n",
              "      <th></th>\n",
              "      <th>Age</th>\n",
              "      <th>Spo2</th>\n",
              "      <th>HeartRate</th>\n",
              "      <th>BodyTemp</th>\n",
              "    </tr>\n",
              "  </thead>\n",
              "  <tbody>\n",
              "    <tr>\n",
              "      <th>921</th>\n",
              "      <td>23</td>\n",
              "      <td>98</td>\n",
              "      <td>70</td>\n",
              "      <td>98.0</td>\n",
              "    </tr>\n",
              "    <tr>\n",
              "      <th>75</th>\n",
              "      <td>23</td>\n",
              "      <td>97</td>\n",
              "      <td>70</td>\n",
              "      <td>98.0</td>\n",
              "    </tr>\n",
              "    <tr>\n",
              "      <th>608</th>\n",
              "      <td>35</td>\n",
              "      <td>98</td>\n",
              "      <td>66</td>\n",
              "      <td>98.0</td>\n",
              "    </tr>\n",
              "    <tr>\n",
              "      <th>630</th>\n",
              "      <td>22</td>\n",
              "      <td>95</td>\n",
              "      <td>80</td>\n",
              "      <td>98.0</td>\n",
              "    </tr>\n",
              "    <tr>\n",
              "      <th>380</th>\n",
              "      <td>13</td>\n",
              "      <td>97</td>\n",
              "      <td>80</td>\n",
              "      <td>101.0</td>\n",
              "    </tr>\n",
              "    <tr>\n",
              "      <th>...</th>\n",
              "      <td>...</td>\n",
              "      <td>...</td>\n",
              "      <td>...</td>\n",
              "      <td>...</td>\n",
              "    </tr>\n",
              "    <tr>\n",
              "      <th>899</th>\n",
              "      <td>19</td>\n",
              "      <td>98</td>\n",
              "      <td>60</td>\n",
              "      <td>98.0</td>\n",
              "    </tr>\n",
              "    <tr>\n",
              "      <th>214</th>\n",
              "      <td>28</td>\n",
              "      <td>97</td>\n",
              "      <td>86</td>\n",
              "      <td>101.0</td>\n",
              "    </tr>\n",
              "    <tr>\n",
              "      <th>501</th>\n",
              "      <td>15</td>\n",
              "      <td>98</td>\n",
              "      <td>70</td>\n",
              "      <td>98.0</td>\n",
              "    </tr>\n",
              "    <tr>\n",
              "      <th>919</th>\n",
              "      <td>19</td>\n",
              "      <td>98</td>\n",
              "      <td>80</td>\n",
              "      <td>98.0</td>\n",
              "    </tr>\n",
              "    <tr>\n",
              "      <th>249</th>\n",
              "      <td>25</td>\n",
              "      <td>95</td>\n",
              "      <td>80</td>\n",
              "      <td>98.0</td>\n",
              "    </tr>\n",
              "  </tbody>\n",
              "</table>\n",
              "<p>203 rows × 4 columns</p>\n",
              "</div>\n",
              "      <button class=\"colab-df-convert\" onclick=\"convertToInteractive('df-cb539529-a31b-45ef-afe0-da7c73c5ec42')\"\n",
              "              title=\"Convert this dataframe to an interactive table.\"\n",
              "              style=\"display:none;\">\n",
              "        \n",
              "  <svg xmlns=\"http://www.w3.org/2000/svg\" height=\"24px\"viewBox=\"0 0 24 24\"\n",
              "       width=\"24px\">\n",
              "    <path d=\"M0 0h24v24H0V0z\" fill=\"none\"/>\n",
              "    <path d=\"M18.56 5.44l.94 2.06.94-2.06 2.06-.94-2.06-.94-.94-2.06-.94 2.06-2.06.94zm-11 1L8.5 8.5l.94-2.06 2.06-.94-2.06-.94L8.5 2.5l-.94 2.06-2.06.94zm10 10l.94 2.06.94-2.06 2.06-.94-2.06-.94-.94-2.06-.94 2.06-2.06.94z\"/><path d=\"M17.41 7.96l-1.37-1.37c-.4-.4-.92-.59-1.43-.59-.52 0-1.04.2-1.43.59L10.3 9.45l-7.72 7.72c-.78.78-.78 2.05 0 2.83L4 21.41c.39.39.9.59 1.41.59.51 0 1.02-.2 1.41-.59l7.78-7.78 2.81-2.81c.8-.78.8-2.07 0-2.86zM5.41 20L4 18.59l7.72-7.72 1.47 1.35L5.41 20z\"/>\n",
              "  </svg>\n",
              "      </button>\n",
              "      \n",
              "  <style>\n",
              "    .colab-df-container {\n",
              "      display:flex;\n",
              "      flex-wrap:wrap;\n",
              "      gap: 12px;\n",
              "    }\n",
              "\n",
              "    .colab-df-convert {\n",
              "      background-color: #E8F0FE;\n",
              "      border: none;\n",
              "      border-radius: 50%;\n",
              "      cursor: pointer;\n",
              "      display: none;\n",
              "      fill: #1967D2;\n",
              "      height: 32px;\n",
              "      padding: 0 0 0 0;\n",
              "      width: 32px;\n",
              "    }\n",
              "\n",
              "    .colab-df-convert:hover {\n",
              "      background-color: #E2EBFA;\n",
              "      box-shadow: 0px 1px 2px rgba(60, 64, 67, 0.3), 0px 1px 3px 1px rgba(60, 64, 67, 0.15);\n",
              "      fill: #174EA6;\n",
              "    }\n",
              "\n",
              "    [theme=dark] .colab-df-convert {\n",
              "      background-color: #3B4455;\n",
              "      fill: #D2E3FC;\n",
              "    }\n",
              "\n",
              "    [theme=dark] .colab-df-convert:hover {\n",
              "      background-color: #434B5C;\n",
              "      box-shadow: 0px 1px 3px 1px rgba(0, 0, 0, 0.15);\n",
              "      filter: drop-shadow(0px 1px 2px rgba(0, 0, 0, 0.3));\n",
              "      fill: #FFFFFF;\n",
              "    }\n",
              "  </style>\n",
              "\n",
              "      <script>\n",
              "        const buttonEl =\n",
              "          document.querySelector('#df-cb539529-a31b-45ef-afe0-da7c73c5ec42 button.colab-df-convert');\n",
              "        buttonEl.style.display =\n",
              "          google.colab.kernel.accessAllowed ? 'block' : 'none';\n",
              "\n",
              "        async function convertToInteractive(key) {\n",
              "          const element = document.querySelector('#df-cb539529-a31b-45ef-afe0-da7c73c5ec42');\n",
              "          const dataTable =\n",
              "            await google.colab.kernel.invokeFunction('convertToInteractive',\n",
              "                                                     [key], {});\n",
              "          if (!dataTable) return;\n",
              "\n",
              "          const docLinkHtml = 'Like what you see? Visit the ' +\n",
              "            '<a target=\"_blank\" href=https://colab.research.google.com/notebooks/data_table.ipynb>data table notebook</a>'\n",
              "            + ' to learn more about interactive tables.';\n",
              "          element.innerHTML = '';\n",
              "          dataTable['output_type'] = 'display_data';\n",
              "          await google.colab.output.renderOutput(dataTable, element);\n",
              "          const docLink = document.createElement('div');\n",
              "          docLink.innerHTML = docLinkHtml;\n",
              "          element.appendChild(docLink);\n",
              "        }\n",
              "      </script>\n",
              "    </div>\n",
              "  </div>\n",
              "  "
            ],
            "text/plain": [
              "     Age  Spo2  HeartRate  BodyTemp\n",
              "921   23    98         70      98.0\n",
              "75    23    97         70      98.0\n",
              "608   35    98         66      98.0\n",
              "630   22    95         80      98.0\n",
              "380   13    97         80     101.0\n",
              "..   ...   ...        ...       ...\n",
              "899   19    98         60      98.0\n",
              "214   28    97         86     101.0\n",
              "501   15    98         70      98.0\n",
              "919   19    98         80      98.0\n",
              "249   25    95         80      98.0\n",
              "\n",
              "[203 rows x 4 columns]"
            ]
          },
          "execution_count": 19,
          "metadata": {},
          "output_type": "execute_result"
        }
      ],
      "source": [
        "X_test"
      ],
      "id": "222bf2bd"
    },
    {
      "cell_type": "code",
      "execution_count": null,
      "metadata": {
        "colab": {
          "base_uri": "https://localhost:8080/"
        },
        "id": "58482243",
        "outputId": "5fa080b1-132d-45d7-8fb4-03228da1f806"
      },
      "outputs": [
        {
          "data": {
            "text/plain": [
              "LinearRegression()"
            ]
          },
          "execution_count": 20,
          "metadata": {},
          "output_type": "execute_result"
        }
      ],
      "source": [
        "from sklearn.linear_model import LinearRegression\n",
        "model = LinearRegression()\n",
        "model.fit(X_train,y_train)"
      ],
      "id": "58482243"
    },
    {
      "cell_type": "code",
      "execution_count": null,
      "metadata": {
        "id": "c517cbf1"
      },
      "outputs": [],
      "source": [
        "y_pred = model.predict(X_test)"
      ],
      "id": "c517cbf1"
    },
    {
      "cell_type": "code",
      "execution_count": null,
      "metadata": {
        "colab": {
          "base_uri": "https://localhost:8080/"
        },
        "id": "2808635c",
        "outputId": "dba71bb3-728c-432e-ca73-aa7378aea204"
      },
      "outputs": [
        {
          "name": "stdout",
          "output_type": "stream",
          "text": [
            "R2 score is: 0.27673409865871856\n"
          ]
        }
      ],
      "source": [
        "print('R2 score is:',r2_score(y_test, y_pred))"
      ],
      "id": "2808635c"
    },
    {
      "cell_type": "code",
      "execution_count": null,
      "metadata": {
        "colab": {
          "base_uri": "https://localhost:8080/"
        },
        "id": "oJJE7nX-Z0_o",
        "outputId": "3200bec5-ef93-42cf-f143-6ae6e0e74b6e"
      },
      "outputs": [
        {
          "name": "stdout",
          "output_type": "stream",
          "text": [
            "MSE is: 197.31154640264776\n"
          ]
        }
      ],
      "source": [
        "print('MSE is:',mean_squared_error(y_test, y_pred))"
      ],
      "id": "oJJE7nX-Z0_o"
    },
    {
      "cell_type": "code",
      "execution_count": null,
      "metadata": {
        "id": "9ff3a347"
      },
      "outputs": [],
      "source": [
        "from sklearn.linear_model import Ridge"
      ],
      "id": "9ff3a347"
    },
    {
      "cell_type": "code",
      "execution_count": null,
      "metadata": {
        "id": "4c23b0d0"
      },
      "outputs": [],
      "source": [
        "regr = Ridge().fit(X_train, y_train)"
      ],
      "id": "4c23b0d0"
    },
    {
      "cell_type": "code",
      "execution_count": null,
      "metadata": {
        "id": "82029d0f"
      },
      "outputs": [],
      "source": [
        "pred = regr.predict(X_test)"
      ],
      "id": "82029d0f"
    },
    {
      "cell_type": "code",
      "execution_count": null,
      "metadata": {
        "colab": {
          "base_uri": "https://localhost:8080/"
        },
        "id": "132748e6",
        "outputId": "29616aa9-28c8-4946-d2b2-7f3e623e8b10"
      },
      "outputs": [
        {
          "name": "stdout",
          "output_type": "stream",
          "text": [
            "R2 score is: 0.27670582555953016\n"
          ]
        }
      ],
      "source": [
        "print('R2 score is:',r2_score(y_test, pred))"
      ],
      "id": "132748e6"
    },
    {
      "cell_type": "code",
      "execution_count": null,
      "metadata": {
        "colab": {
          "base_uri": "https://localhost:8080/"
        },
        "id": "25cec71f",
        "outputId": "3923b18a-b06a-4e21-dcb9-c91a942d0a44"
      },
      "outputs": [
        {
          "name": "stdout",
          "output_type": "stream",
          "text": [
            "MSE is: 197.31928013988636\n"
          ]
        }
      ],
      "source": [
        "print('MSE is:',mean_squared_error(y_test, pred))"
      ],
      "id": "25cec71f"
    },
    {
      "cell_type": "code",
      "execution_count": null,
      "metadata": {
        "colab": {
          "base_uri": "https://localhost:8080/"
        },
        "id": "73f27976",
        "outputId": "7bbc2a1d-2001-4b61-f442-573bee6f9b0e"
      },
      "outputs": [
        {
          "data": {
            "text/plain": [
              "RandomForestRegressor()"
            ]
          },
          "execution_count": 29,
          "metadata": {},
          "output_type": "execute_result"
        }
      ],
      "source": [
        "from sklearn.ensemble import RandomForestRegressor\n",
        "clf = RandomForestRegressor()\n",
        "clf.fit(X_train, y_train)"
      ],
      "id": "73f27976"
    },
    {
      "cell_type": "code",
      "execution_count": null,
      "metadata": {
        "id": "da803560"
      },
      "outputs": [],
      "source": [
        "pred1 = clf.predict(X_test)"
      ],
      "id": "da803560"
    },
    {
      "cell_type": "code",
      "execution_count": null,
      "metadata": {
        "colab": {
          "base_uri": "https://localhost:8080/",
          "height": 423
        },
        "id": "246e177f",
        "outputId": "a4916045-219d-4ca7-98f4-caa016d23c80"
      },
      "outputs": [
        {
          "data": {
            "text/html": [
              "\n",
              "  <div id=\"df-fec07dc8-4a64-4125-89ea-b282a571e174\">\n",
              "    <div class=\"colab-df-container\">\n",
              "      <div>\n",
              "<style scoped>\n",
              "    .dataframe tbody tr th:only-of-type {\n",
              "        vertical-align: middle;\n",
              "    }\n",
              "\n",
              "    .dataframe tbody tr th {\n",
              "        vertical-align: top;\n",
              "    }\n",
              "\n",
              "    .dataframe thead th {\n",
              "        text-align: right;\n",
              "    }\n",
              "</style>\n",
              "<table border=\"1\" class=\"dataframe\">\n",
              "  <thead>\n",
              "    <tr style=\"text-align: right;\">\n",
              "      <th></th>\n",
              "      <th>Age</th>\n",
              "      <th>Spo2</th>\n",
              "      <th>HeartRate</th>\n",
              "      <th>BodyTemp</th>\n",
              "    </tr>\n",
              "  </thead>\n",
              "  <tbody>\n",
              "    <tr>\n",
              "      <th>921</th>\n",
              "      <td>23</td>\n",
              "      <td>98</td>\n",
              "      <td>70</td>\n",
              "      <td>98.0</td>\n",
              "    </tr>\n",
              "    <tr>\n",
              "      <th>75</th>\n",
              "      <td>23</td>\n",
              "      <td>97</td>\n",
              "      <td>70</td>\n",
              "      <td>98.0</td>\n",
              "    </tr>\n",
              "    <tr>\n",
              "      <th>608</th>\n",
              "      <td>35</td>\n",
              "      <td>98</td>\n",
              "      <td>66</td>\n",
              "      <td>98.0</td>\n",
              "    </tr>\n",
              "    <tr>\n",
              "      <th>630</th>\n",
              "      <td>22</td>\n",
              "      <td>95</td>\n",
              "      <td>80</td>\n",
              "      <td>98.0</td>\n",
              "    </tr>\n",
              "    <tr>\n",
              "      <th>380</th>\n",
              "      <td>13</td>\n",
              "      <td>97</td>\n",
              "      <td>80</td>\n",
              "      <td>101.0</td>\n",
              "    </tr>\n",
              "    <tr>\n",
              "      <th>...</th>\n",
              "      <td>...</td>\n",
              "      <td>...</td>\n",
              "      <td>...</td>\n",
              "      <td>...</td>\n",
              "    </tr>\n",
              "    <tr>\n",
              "      <th>899</th>\n",
              "      <td>19</td>\n",
              "      <td>98</td>\n",
              "      <td>60</td>\n",
              "      <td>98.0</td>\n",
              "    </tr>\n",
              "    <tr>\n",
              "      <th>214</th>\n",
              "      <td>28</td>\n",
              "      <td>97</td>\n",
              "      <td>86</td>\n",
              "      <td>101.0</td>\n",
              "    </tr>\n",
              "    <tr>\n",
              "      <th>501</th>\n",
              "      <td>15</td>\n",
              "      <td>98</td>\n",
              "      <td>70</td>\n",
              "      <td>98.0</td>\n",
              "    </tr>\n",
              "    <tr>\n",
              "      <th>919</th>\n",
              "      <td>19</td>\n",
              "      <td>98</td>\n",
              "      <td>80</td>\n",
              "      <td>98.0</td>\n",
              "    </tr>\n",
              "    <tr>\n",
              "      <th>249</th>\n",
              "      <td>25</td>\n",
              "      <td>95</td>\n",
              "      <td>80</td>\n",
              "      <td>98.0</td>\n",
              "    </tr>\n",
              "  </tbody>\n",
              "</table>\n",
              "<p>203 rows × 4 columns</p>\n",
              "</div>\n",
              "      <button class=\"colab-df-convert\" onclick=\"convertToInteractive('df-fec07dc8-4a64-4125-89ea-b282a571e174')\"\n",
              "              title=\"Convert this dataframe to an interactive table.\"\n",
              "              style=\"display:none;\">\n",
              "        \n",
              "  <svg xmlns=\"http://www.w3.org/2000/svg\" height=\"24px\"viewBox=\"0 0 24 24\"\n",
              "       width=\"24px\">\n",
              "    <path d=\"M0 0h24v24H0V0z\" fill=\"none\"/>\n",
              "    <path d=\"M18.56 5.44l.94 2.06.94-2.06 2.06-.94-2.06-.94-.94-2.06-.94 2.06-2.06.94zm-11 1L8.5 8.5l.94-2.06 2.06-.94-2.06-.94L8.5 2.5l-.94 2.06-2.06.94zm10 10l.94 2.06.94-2.06 2.06-.94-2.06-.94-.94-2.06-.94 2.06-2.06.94z\"/><path d=\"M17.41 7.96l-1.37-1.37c-.4-.4-.92-.59-1.43-.59-.52 0-1.04.2-1.43.59L10.3 9.45l-7.72 7.72c-.78.78-.78 2.05 0 2.83L4 21.41c.39.39.9.59 1.41.59.51 0 1.02-.2 1.41-.59l7.78-7.78 2.81-2.81c.8-.78.8-2.07 0-2.86zM5.41 20L4 18.59l7.72-7.72 1.47 1.35L5.41 20z\"/>\n",
              "  </svg>\n",
              "      </button>\n",
              "      \n",
              "  <style>\n",
              "    .colab-df-container {\n",
              "      display:flex;\n",
              "      flex-wrap:wrap;\n",
              "      gap: 12px;\n",
              "    }\n",
              "\n",
              "    .colab-df-convert {\n",
              "      background-color: #E8F0FE;\n",
              "      border: none;\n",
              "      border-radius: 50%;\n",
              "      cursor: pointer;\n",
              "      display: none;\n",
              "      fill: #1967D2;\n",
              "      height: 32px;\n",
              "      padding: 0 0 0 0;\n",
              "      width: 32px;\n",
              "    }\n",
              "\n",
              "    .colab-df-convert:hover {\n",
              "      background-color: #E2EBFA;\n",
              "      box-shadow: 0px 1px 2px rgba(60, 64, 67, 0.3), 0px 1px 3px 1px rgba(60, 64, 67, 0.15);\n",
              "      fill: #174EA6;\n",
              "    }\n",
              "\n",
              "    [theme=dark] .colab-df-convert {\n",
              "      background-color: #3B4455;\n",
              "      fill: #D2E3FC;\n",
              "    }\n",
              "\n",
              "    [theme=dark] .colab-df-convert:hover {\n",
              "      background-color: #434B5C;\n",
              "      box-shadow: 0px 1px 3px 1px rgba(0, 0, 0, 0.15);\n",
              "      filter: drop-shadow(0px 1px 2px rgba(0, 0, 0, 0.3));\n",
              "      fill: #FFFFFF;\n",
              "    }\n",
              "  </style>\n",
              "\n",
              "      <script>\n",
              "        const buttonEl =\n",
              "          document.querySelector('#df-fec07dc8-4a64-4125-89ea-b282a571e174 button.colab-df-convert');\n",
              "        buttonEl.style.display =\n",
              "          google.colab.kernel.accessAllowed ? 'block' : 'none';\n",
              "\n",
              "        async function convertToInteractive(key) {\n",
              "          const element = document.querySelector('#df-fec07dc8-4a64-4125-89ea-b282a571e174');\n",
              "          const dataTable =\n",
              "            await google.colab.kernel.invokeFunction('convertToInteractive',\n",
              "                                                     [key], {});\n",
              "          if (!dataTable) return;\n",
              "\n",
              "          const docLinkHtml = 'Like what you see? Visit the ' +\n",
              "            '<a target=\"_blank\" href=https://colab.research.google.com/notebooks/data_table.ipynb>data table notebook</a>'\n",
              "            + ' to learn more about interactive tables.';\n",
              "          element.innerHTML = '';\n",
              "          dataTable['output_type'] = 'display_data';\n",
              "          await google.colab.output.renderOutput(dataTable, element);\n",
              "          const docLink = document.createElement('div');\n",
              "          docLink.innerHTML = docLinkHtml;\n",
              "          element.appendChild(docLink);\n",
              "        }\n",
              "      </script>\n",
              "    </div>\n",
              "  </div>\n",
              "  "
            ],
            "text/plain": [
              "     Age  Spo2  HeartRate  BodyTemp\n",
              "921   23    98         70      98.0\n",
              "75    23    97         70      98.0\n",
              "608   35    98         66      98.0\n",
              "630   22    95         80      98.0\n",
              "380   13    97         80     101.0\n",
              "..   ...   ...        ...       ...\n",
              "899   19    98         60      98.0\n",
              "214   28    97         86     101.0\n",
              "501   15    98         70      98.0\n",
              "919   19    98         80      98.0\n",
              "249   25    95         80      98.0\n",
              "\n",
              "[203 rows x 4 columns]"
            ]
          },
          "execution_count": 31,
          "metadata": {},
          "output_type": "execute_result"
        }
      ],
      "source": [
        "X_test"
      ],
      "id": "246e177f"
    },
    {
      "cell_type": "code",
      "execution_count": null,
      "metadata": {
        "colab": {
          "base_uri": "https://localhost:8080/"
        },
        "id": "ddaa1f19",
        "outputId": "b0a35626-7a08-4958-c766-33ad3ffe272a"
      },
      "outputs": [
        {
          "data": {
            "text/plain": [
              "array([[116.30894465,  81.98987547],\n",
              "       [122.71242785,  79.79830988],\n",
              "       [100.        ,  70.        ],\n",
              "       [120.54833333,  63.44083333],\n",
              "       [ 90.        ,  65.        ],\n",
              "       [137.        ,  87.89375   ],\n",
              "       [114.75      ,  83.55      ],\n",
              "       [138.04872905,  99.02436452],\n",
              "       [ 99.83333333,  65.16666667],\n",
              "       [ 90.        ,  65.        ],\n",
              "       [ 77.72410648,  50.96897912],\n",
              "       [120.        ,  80.        ],\n",
              "       [120.        ,  89.29695726],\n",
              "       [ 91.925     ,  61.405     ],\n",
              "       [ 85.03095238,  60.        ],\n",
              "       [120.        ,  89.29695726],\n",
              "       [ 95.95154762,  67.97577381],\n",
              "       [138.04872905,  99.02436452],\n",
              "       [138.04872905,  99.02436452],\n",
              "       [120.        ,  80.        ],\n",
              "       [114.25609619,  66.38414429],\n",
              "       [100.03333333,  89.68333333],\n",
              "       [119.7       ,  60.3       ],\n",
              "       [139.6       ,  95.55      ],\n",
              "       [119.9       ,  88.5       ],\n",
              "       [122.71242785,  79.79830988],\n",
              "       [130.        ,  70.        ],\n",
              "       [120.86      ,  88.7       ],\n",
              "       [ 93.48472694,  62.2       ],\n",
              "       [120.        ,  80.        ],\n",
              "       [ 85.10843254,  62.601     ],\n",
              "       [120.        ,  80.25      ],\n",
              "       [ 90.5       ,  70.2       ],\n",
              "       [156.27687006, 100.        ],\n",
              "       [120.        ,  60.        ],\n",
              "       [120.        ,  80.        ],\n",
              "       [119.3       ,  89.4       ],\n",
              "       [ 95.95154762,  67.97577381],\n",
              "       [127.5       ,  79.80666667],\n",
              "       [ 86.54      ,  62.3       ],\n",
              "       [100.        ,  85.        ],\n",
              "       [119.55      ,  84.64483333],\n",
              "       [116.30894465,  81.98987547],\n",
              "       [ 96.8       ,  61.5       ],\n",
              "       [ 90.8       ,  60.63      ],\n",
              "       [ 90.17857143,  60.1       ],\n",
              "       [140.        ,  99.        ],\n",
              "       [ 91.32236106,  60.        ],\n",
              "       [ 81.5       ,  56.36      ],\n",
              "       [ 77.72410648,  50.96897912],\n",
              "       [119.9       ,  78.7964881 ],\n",
              "       [ 99.83333333,  65.16666667],\n",
              "       [118.75      ,  82.94209957],\n",
              "       [116.915     ,  77.3       ],\n",
              "       [100.39923993,  60.        ],\n",
              "       [120.        ,  60.        ],\n",
              "       [ 90.        ,  60.1       ],\n",
              "       [121.9       ,  81.7       ],\n",
              "       [120.        ,  75.40588492],\n",
              "       [ 85.10843254,  62.601     ],\n",
              "       [118.5       ,  79.1       ],\n",
              "       [140.        , 100.        ],\n",
              "       [140.        ,  99.        ],\n",
              "       [ 91.32236106,  60.        ],\n",
              "       [120.        ,  80.        ],\n",
              "       [100.45      ,  84.86      ],\n",
              "       [115.00411921,  80.00411921],\n",
              "       [120.        ,  80.        ],\n",
              "       [ 94.        ,  65.3       ],\n",
              "       [ 77.72410648,  50.96897912],\n",
              "       [119.7       ,  79.83      ],\n",
              "       [ 87.04      ,  61.8       ],\n",
              "       [130.41116162,  80.        ],\n",
              "       [120.        ,  79.31455447],\n",
              "       [130.        ,  70.        ],\n",
              "       [ 81.89193959,  50.35      ],\n",
              "       [119.55      ,  85.80373016],\n",
              "       [ 81.89193959,  50.35      ],\n",
              "       [130.        ,  70.        ],\n",
              "       [119.05      ,  70.29      ],\n",
              "       [ 86.5694117 ,  60.        ],\n",
              "       [119.5       ,  79.75      ],\n",
              "       [115.4       ,  87.2       ],\n",
              "       [120.        ,  75.40588492],\n",
              "       [ 99.3589899 ,  64.38848485],\n",
              "       [120.        ,  85.15      ],\n",
              "       [100.        ,  70.        ],\n",
              "       [116.915     ,  77.3       ],\n",
              "       [120.        ,  79.31455447],\n",
              "       [140.        , 100.        ],\n",
              "       [ 77.72410648,  50.96897912],\n",
              "       [123.6       ,  90.        ],\n",
              "       [130.        ,  70.        ],\n",
              "       [ 85.03095238,  60.        ],\n",
              "       [127.5       ,  79.80666667],\n",
              "       [ 90.        ,  65.        ],\n",
              "       [119.2       ,  89.55      ],\n",
              "       [119.8       ,  89.86666667],\n",
              "       [117.525     ,  89.07083333],\n",
              "       [138.04872905,  99.02436452],\n",
              "       [116.915     ,  77.3       ],\n",
              "       [130.13166667,  93.8       ],\n",
              "       [ 91.80102814,  73.14507576],\n",
              "       [120.        ,  80.        ],\n",
              "       [119.7       ,  79.8       ],\n",
              "       [114.05071429,  82.95      ],\n",
              "       [120.2       ,  80.        ],\n",
              "       [ 89.61031746,  61.62619048],\n",
              "       [100.45      ,  84.86      ],\n",
              "       [120.        ,  80.25      ],\n",
              "       [116.30894465,  81.98987547],\n",
              "       [ 99.        ,  62.5       ],\n",
              "       [130.        ,  70.        ],\n",
              "       [120.09      ,  80.05      ],\n",
              "       [113.95      ,  85.85      ],\n",
              "       [156.27687006, 100.        ],\n",
              "       [116.30894465,  81.98987547],\n",
              "       [ 90.        ,  60.1       ],\n",
              "       [119.55      ,  85.80373016],\n",
              "       [140.        ,  99.        ],\n",
              "       [130.        ,  70.        ],\n",
              "       [ 90.        ,  63.        ],\n",
              "       [ 92.05      ,  62.4       ],\n",
              "       [ 99.675     ,  86.3125    ],\n",
              "       [ 83.04277833,  60.        ],\n",
              "       [120.        ,  80.        ],\n",
              "       [120.        ,  80.        ],\n",
              "       [119.7       ,  79.8       ],\n",
              "       [ 92.60790466,  49.07777382],\n",
              "       [120.        ,  89.29695726],\n",
              "       [ 90.61047619,  60.13      ],\n",
              "       [ 91.925     ,  61.405     ],\n",
              "       [130.        ,  70.        ],\n",
              "       [ 81.89193959,  50.35      ],\n",
              "       [120.        ,  80.        ],\n",
              "       [120.        ,  80.        ],\n",
              "       [119.25      ,  88.275     ],\n",
              "       [120.        ,  89.02833333],\n",
              "       [118.8       ,  60.2       ],\n",
              "       [ 91.32236106,  60.        ],\n",
              "       [113.6       ,  81.6       ],\n",
              "       [120.        ,  80.        ],\n",
              "       [100.39923993,  60.        ],\n",
              "       [138.04872905,  99.02436452],\n",
              "       [ 99.8       ,  50.37      ],\n",
              "       [ 90.5       ,  60.45      ],\n",
              "       [120.        ,  84.75630952],\n",
              "       [ 95.8375    ,  51.1575    ],\n",
              "       [ 93.48472694,  62.2       ],\n",
              "       [119.8       ,  80.05      ],\n",
              "       [130.13166667,  93.8       ],\n",
              "       [ 99.55      ,  70.93666667],\n",
              "       [120.        ,  79.31455447],\n",
              "       [133.8       ,  92.10625   ],\n",
              "       [113.6       ,  81.6       ],\n",
              "       [119.7       ,  79.8       ],\n",
              "       [100.        ,  70.        ],\n",
              "       [ 90.        ,  65.        ],\n",
              "       [ 91.80102814,  73.14507576],\n",
              "       [130.        ,  70.        ],\n",
              "       [100.03333333,  89.68333333],\n",
              "       [130.41116162,  80.        ],\n",
              "       [107.78246753,  73.89123377],\n",
              "       [121.2       ,  85.        ],\n",
              "       [113.26461039,  77.75487013],\n",
              "       [119.05      ,  70.29      ],\n",
              "       [120.        ,  60.        ],\n",
              "       [116.30894465,  81.98987547],\n",
              "       [ 80.4       ,  56.03      ],\n",
              "       [140.        ,  90.        ],\n",
              "       [ 90.3522619 ,  60.1       ],\n",
              "       [130.13166667,  93.8       ],\n",
              "       [ 94.15      ,  63.3       ],\n",
              "       [114.25609619,  66.38414429],\n",
              "       [127.8       ,  90.1       ],\n",
              "       [140.        ,  95.        ],\n",
              "       [130.41116162,  80.        ],\n",
              "       [ 91.65      ,  70.49904762],\n",
              "       [ 99.        ,  62.5       ],\n",
              "       [138.04872905,  99.02436452],\n",
              "       [ 99.93864407,  80.81      ],\n",
              "       [120.        ,  80.        ],\n",
              "       [ 89.66666667,  64.33      ],\n",
              "       [140.        ,  95.        ],\n",
              "       [119.55      ,  85.80373016],\n",
              "       [140.        ,  95.        ],\n",
              "       [ 99.475     ,  66.475     ],\n",
              "       [139.6       ,  95.55      ],\n",
              "       [137.        ,  87.89375   ],\n",
              "       [119.7       ,  79.83      ],\n",
              "       [130.41116162,  80.        ],\n",
              "       [139.8       ,  94.9       ],\n",
              "       [ 98.65      ,  71.28666667],\n",
              "       [130.        ,  70.        ],\n",
              "       [123.6       ,  90.        ],\n",
              "       [123.        ,  86.5       ],\n",
              "       [130.        ,  70.        ],\n",
              "       [103.        ,  68.9       ],\n",
              "       [119.55      ,  84.64483333],\n",
              "       [100.39923993,  60.        ],\n",
              "       [120.        ,  80.        ],\n",
              "       [ 91.65      ,  70.49904762],\n",
              "       [138.04872905,  99.02436452]])"
            ]
          },
          "execution_count": 32,
          "metadata": {},
          "output_type": "execute_result"
        }
      ],
      "source": [
        "pred1"
      ],
      "id": "ddaa1f19"
    },
    {
      "cell_type": "code",
      "execution_count": null,
      "metadata": {
        "colab": {
          "base_uri": "https://localhost:8080/"
        },
        "id": "2efa75a4",
        "outputId": "dc386a07-2671-477a-da5b-723b84c7f685"
      },
      "outputs": [
        {
          "name": "stdout",
          "output_type": "stream",
          "text": [
            "R2 score is: 0.8480622447720241\n"
          ]
        }
      ],
      "source": [
        "print('R2 score is:',r2_score(y_test, pred1))"
      ],
      "id": "2efa75a4"
    },
    {
      "cell_type": "code",
      "execution_count": null,
      "metadata": {
        "colab": {
          "base_uri": "https://localhost:8080/"
        },
        "id": "b8784974",
        "outputId": "bed487d9-fcbf-4532-f40f-a78efa729f58"
      },
      "outputs": [
        {
          "name": "stdout",
          "output_type": "stream",
          "text": [
            "MSE is: 44.93443983054816\n"
          ]
        }
      ],
      "source": [
        "print('MSE is:',mean_squared_error(y_test, pred1))"
      ],
      "id": "b8784974"
    },
    {
      "cell_type": "code",
      "execution_count": null,
      "metadata": {
        "id": "bb50e6d1"
      },
      "outputs": [],
      "source": [
        "n_estimators = [5,20,50,100] # number of trees in the random forest\n",
        "max_features = ['auto', 'sqrt'] # number of features in consideration at every split\n",
        "max_depth = [int(x) for x in np.linspace(10, 120, num = 12)] # maximum number of levels allowed in each decision tree\n",
        "min_samples_split = [2, 6, 10] # minimum sample number to split a node\n",
        "min_samples_leaf = [1, 3, 4] # minimum sample number that can be stored in a leaf node\n",
        "bootstrap = [True, False] # method used to sample data points\n",
        "\n",
        "random_grid = {'n_estimators': n_estimators,\n",
        "\n",
        "'max_features': max_features,\n",
        "\n",
        "'max_depth': max_depth,\n",
        "\n",
        "'min_samples_split': min_samples_split,\n",
        "\n",
        "'min_samples_leaf': min_samples_leaf,\n",
        "\n",
        "'bootstrap': bootstrap}"
      ],
      "id": "bb50e6d1"
    },
    {
      "cell_type": "code",
      "execution_count": null,
      "metadata": {
        "id": "47e9853b"
      },
      "outputs": [],
      "source": [
        "from sklearn.model_selection import RandomizedSearchCV\n",
        "rf_random = RandomizedSearchCV(estimator = clf,param_distributions = random_grid,\n",
        "               n_iter = 100, cv = 5, verbose=2, random_state=35, n_jobs = -1)"
      ],
      "id": "47e9853b"
    },
    {
      "cell_type": "code",
      "execution_count": null,
      "metadata": {
        "colab": {
          "base_uri": "https://localhost:8080/"
        },
        "id": "31425ec2",
        "outputId": "d8475afb-1c84-4edb-b6ec-348586ae8042"
      },
      "outputs": [
        {
          "name": "stdout",
          "output_type": "stream",
          "text": [
            "Fitting 5 folds for each of 100 candidates, totalling 500 fits\n"
          ]
        },
        {
          "data": {
            "text/plain": [
              "RandomizedSearchCV(cv=5, estimator=RandomForestRegressor(), n_iter=100,\n",
              "                   n_jobs=-1,\n",
              "                   param_distributions={'bootstrap': [True, False],\n",
              "                                        'max_depth': [10, 20, 30, 40, 50, 60,\n",
              "                                                      70, 80, 90, 100, 110,\n",
              "                                                      120],\n",
              "                                        'max_features': ['auto', 'sqrt'],\n",
              "                                        'min_samples_leaf': [1, 3, 4],\n",
              "                                        'min_samples_split': [2, 6, 10],\n",
              "                                        'n_estimators': [5, 20, 50, 100]},\n",
              "                   random_state=35, verbose=2)"
            ]
          },
          "execution_count": 37,
          "metadata": {},
          "output_type": "execute_result"
        }
      ],
      "source": [
        "rf_random.fit(X_train, y_train)"
      ],
      "id": "31425ec2"
    },
    {
      "cell_type": "code",
      "execution_count": null,
      "metadata": {
        "colab": {
          "base_uri": "https://localhost:8080/"
        },
        "id": "7751d349",
        "outputId": "66dbced9-62b5-47b3-bd41-4fc4493c80d1"
      },
      "outputs": [
        {
          "name": "stdout",
          "output_type": "stream",
          "text": [
            "Random grid:  {'n_estimators': [5, 20, 50, 100], 'max_features': ['auto', 'sqrt'], 'max_depth': [10, 20, 30, 40, 50, 60, 70, 80, 90, 100, 110, 120], 'min_samples_split': [2, 6, 10], 'min_samples_leaf': [1, 3, 4], 'bootstrap': [True, False]} \n",
            "\n",
            "Best Parameters:  {'n_estimators': 20, 'min_samples_split': 2, 'min_samples_leaf': 1, 'max_features': 'sqrt', 'max_depth': 70, 'bootstrap': False}  \n",
            "\n"
          ]
        }
      ],
      "source": [
        "print ('Random grid: ', random_grid, '\\n')\n",
        "# print the best parameters\n",
        "print ('Best Parameters: ', rf_random.best_params_, ' \\n')"
      ],
      "id": "7751d349"
    },
    {
      "cell_type": "code",
      "execution_count": null,
      "metadata": {
        "id": "439d8da9"
      },
      "outputs": [],
      "source": [
        "clf_tuned = RandomForestRegressor(n_estimators = 20, min_samples_split= 2, min_samples_leaf = 1, max_features = 'sqrt', max_depth = 70, bootstrap = False)"
      ],
      "id": "439d8da9"
    },
    {
      "cell_type": "code",
      "execution_count": null,
      "metadata": {
        "colab": {
          "base_uri": "https://localhost:8080/"
        },
        "id": "f4dc4d13",
        "outputId": "55477048-2a25-455e-d820-6c51bf34a96d"
      },
      "outputs": [
        {
          "data": {
            "text/plain": [
              "RandomForestRegressor(bootstrap=False, max_depth=70, max_features='sqrt',\n",
              "                      n_estimators=20)"
            ]
          },
          "execution_count": 40,
          "metadata": {},
          "output_type": "execute_result"
        }
      ],
      "source": [
        "clf_tuned.fit(X_train,y_train)"
      ],
      "id": "f4dc4d13"
    },
    {
      "cell_type": "code",
      "execution_count": null,
      "metadata": {
        "id": "729f3c5e"
      },
      "outputs": [],
      "source": [
        "pred_tune = clf_tuned.predict(X_test)"
      ],
      "id": "729f3c5e"
    },
    {
      "cell_type": "code",
      "execution_count": null,
      "metadata": {
        "colab": {
          "base_uri": "https://localhost:8080/"
        },
        "id": "8716fc5e",
        "outputId": "4f8ce4ca-489a-4695-fbd4-80542738384a"
      },
      "outputs": [
        {
          "name": "stdout",
          "output_type": "stream",
          "text": [
            "Variable: Age                  Importance: 0.48\n",
            "Variable: HeartRate            Importance: 0.25\n",
            "Variable: Spo2                 Importance: 0.16\n",
            "Variable: BodyTemp             Importance: 0.11\n"
          ]
        }
      ],
      "source": [
        "importances = list(clf_tuned.feature_importances_)\n",
        "\n",
        "feature_list = X_columns\n",
        "\n",
        "feature_importances = [(feature, round(importance, 2)) for feature, importance in zip(feature_list, importances)]\n",
        "\n",
        "feature_importances = sorted(feature_importances, key = lambda x: x[1], reverse = True)\n",
        "\n",
        "[print('Variable: {:20} Importance: {}'.format(*pair)) for pair in feature_importances];"
      ],
      "id": "8716fc5e"
    },
    {
      "cell_type": "code",
      "execution_count": null,
      "metadata": {
        "colab": {
          "base_uri": "https://localhost:8080/"
        },
        "id": "9246e402",
        "outputId": "f38d0178-c99e-4a2a-d604-edc5231b7c02"
      },
      "outputs": [
        {
          "name": "stdout",
          "output_type": "stream",
          "text": [
            "R2 score is: 0.8349257223649953\n"
          ]
        }
      ],
      "source": [
        "print('R2 score is:',r2_score(y_test, pred_tune))"
      ],
      "id": "9246e402"
    },
    {
      "cell_type": "code",
      "execution_count": null,
      "metadata": {
        "colab": {
          "base_uri": "https://localhost:8080/"
        },
        "id": "36ff1104",
        "outputId": "fdecff87-ee2b-4022-b61c-1e5a3628fd4a"
      },
      "outputs": [
        {
          "name": "stdout",
          "output_type": "stream",
          "text": [
            "MSE is: 48.73767453390507\n"
          ]
        }
      ],
      "source": [
        "print('MSE is:',mean_squared_error(y_test, pred_tune))"
      ],
      "id": "36ff1104"
    },
    {
      "cell_type": "code",
      "execution_count": null,
      "metadata": {
        "colab": {
          "base_uri": "https://localhost:8080/"
        },
        "id": "0ab706c2",
        "outputId": "54a33e9a-5fa6-48a9-ef3c-38b0ac285c40"
      },
      "outputs": [
        {
          "name": "stdout",
          "output_type": "stream",
          "text": [
            "Model: \"sequential\"\n",
            "_________________________________________________________________\n",
            " Layer (type)                Output Shape              Param #   \n",
            "=================================================================\n",
            " dense (Dense)               (None, 128)               640       \n",
            "                                                                 \n",
            " dense_1 (Dense)             (None, 64)                8256      \n",
            "                                                                 \n",
            " dense_2 (Dense)             (None, 2)                 130       \n",
            "                                                                 \n",
            "=================================================================\n",
            "Total params: 9,026\n",
            "Trainable params: 9,026\n",
            "Non-trainable params: 0\n",
            "_________________________________________________________________\n"
          ]
        }
      ],
      "source": [
        "model1 = Sequential()\n",
        "model1.add(Dense(128, activation=\"relu\", input_shape=(4,)))\n",
        "model1.add(Dense(64, activation=\"relu\"))\n",
        "model1.add(Dense(2, activation=\"linear\"))\n",
        "model1.compile(loss=\"mse\", optimizer=\"adam\")\n",
        "model1.summary()"
      ],
      "id": "0ab706c2"
    },
    {
      "cell_type": "code",
      "execution_count": null,
      "metadata": {
        "colab": {
          "base_uri": "https://localhost:8080/"
        },
        "id": "fe558bc4",
        "outputId": "3e97a672-117e-42f4-c3f7-dba8038ca452"
      },
      "outputs": [
        {
          "name": "stdout",
          "output_type": "stream",
          "text": [
            "Epoch 1/200\n",
            "26/26 [==============================] - 6s 10ms/step - loss: 4900.7632 - val_loss: 723.7501\n",
            "Epoch 2/200\n",
            "26/26 [==============================] - 0s 4ms/step - loss: 394.0027 - val_loss: 293.8412\n",
            "Epoch 3/200\n",
            "26/26 [==============================] - 0s 5ms/step - loss: 262.1126 - val_loss: 270.0525\n",
            "Epoch 4/200\n",
            "26/26 [==============================] - 0s 4ms/step - loss: 254.0164 - val_loss: 264.4074\n",
            "Epoch 5/200\n",
            "26/26 [==============================] - 0s 4ms/step - loss: 249.3378 - val_loss: 262.1667\n",
            "Epoch 6/200\n",
            "26/26 [==============================] - 0s 5ms/step - loss: 244.1173 - val_loss: 257.3727\n",
            "Epoch 7/200\n",
            "26/26 [==============================] - 0s 4ms/step - loss: 240.9500 - val_loss: 256.1864\n",
            "Epoch 8/200\n",
            "26/26 [==============================] - 0s 4ms/step - loss: 239.1978 - val_loss: 252.8021\n",
            "Epoch 9/200\n",
            "26/26 [==============================] - 0s 4ms/step - loss: 235.2417 - val_loss: 251.3847\n",
            "Epoch 10/200\n",
            "26/26 [==============================] - 0s 4ms/step - loss: 232.3603 - val_loss: 250.3958\n",
            "Epoch 11/200\n",
            "26/26 [==============================] - 0s 5ms/step - loss: 231.0662 - val_loss: 250.4606\n",
            "Epoch 12/200\n",
            "26/26 [==============================] - 0s 4ms/step - loss: 230.0168 - val_loss: 251.0835\n",
            "Epoch 13/200\n",
            "26/26 [==============================] - 0s 4ms/step - loss: 229.1949 - val_loss: 250.1655\n",
            "Epoch 14/200\n",
            "26/26 [==============================] - 0s 4ms/step - loss: 228.8559 - val_loss: 249.7896\n",
            "Epoch 15/200\n",
            "26/26 [==============================] - 0s 5ms/step - loss: 230.3522 - val_loss: 256.2240\n",
            "Epoch 16/200\n",
            "26/26 [==============================] - 0s 4ms/step - loss: 232.7841 - val_loss: 249.9416\n",
            "Epoch 17/200\n",
            "26/26 [==============================] - 0s 5ms/step - loss: 227.2372 - val_loss: 247.5036\n",
            "Epoch 18/200\n",
            "26/26 [==============================] - 0s 4ms/step - loss: 229.5357 - val_loss: 250.2448\n",
            "Epoch 19/200\n",
            "26/26 [==============================] - 0s 4ms/step - loss: 226.9819 - val_loss: 251.0142\n",
            "Epoch 20/200\n",
            "26/26 [==============================] - 0s 5ms/step - loss: 226.3258 - val_loss: 248.1370\n",
            "Epoch 21/200\n",
            "26/26 [==============================] - 0s 5ms/step - loss: 228.3725 - val_loss: 247.2191\n",
            "Epoch 22/200\n",
            "26/26 [==============================] - 0s 5ms/step - loss: 224.1376 - val_loss: 254.5199\n",
            "Epoch 23/200\n",
            "26/26 [==============================] - 0s 4ms/step - loss: 232.9249 - val_loss: 249.5001\n",
            "Epoch 24/200\n",
            "26/26 [==============================] - 0s 4ms/step - loss: 227.6998 - val_loss: 246.1422\n",
            "Epoch 25/200\n",
            "26/26 [==============================] - 0s 4ms/step - loss: 226.0007 - val_loss: 246.7438\n",
            "Epoch 26/200\n",
            "26/26 [==============================] - 0s 4ms/step - loss: 226.0148 - val_loss: 247.0667\n",
            "Epoch 27/200\n",
            "26/26 [==============================] - 0s 4ms/step - loss: 223.1613 - val_loss: 247.2368\n",
            "Epoch 28/200\n",
            "26/26 [==============================] - 0s 5ms/step - loss: 223.5648 - val_loss: 268.1299\n",
            "Epoch 29/200\n",
            "26/26 [==============================] - 0s 4ms/step - loss: 230.9180 - val_loss: 246.9739\n",
            "Epoch 30/200\n",
            "26/26 [==============================] - 0s 4ms/step - loss: 231.0754 - val_loss: 259.7909\n",
            "Epoch 31/200\n",
            "26/26 [==============================] - 0s 4ms/step - loss: 226.7943 - val_loss: 254.2979\n",
            "Epoch 32/200\n",
            "26/26 [==============================] - 0s 4ms/step - loss: 225.1279 - val_loss: 245.4957\n",
            "Epoch 33/200\n",
            "26/26 [==============================] - 0s 4ms/step - loss: 223.8427 - val_loss: 247.0447\n",
            "Epoch 34/200\n",
            "26/26 [==============================] - 0s 4ms/step - loss: 223.2852 - val_loss: 245.6516\n",
            "Epoch 35/200\n",
            "26/26 [==============================] - 0s 4ms/step - loss: 223.4692 - val_loss: 246.0077\n",
            "Epoch 36/200\n",
            "26/26 [==============================] - 0s 4ms/step - loss: 223.4176 - val_loss: 249.7140\n",
            "Epoch 37/200\n",
            "26/26 [==============================] - 0s 5ms/step - loss: 230.6928 - val_loss: 244.9975\n",
            "Epoch 38/200\n",
            "26/26 [==============================] - 0s 4ms/step - loss: 221.0521 - val_loss: 247.1168\n",
            "Epoch 39/200\n",
            "26/26 [==============================] - 0s 4ms/step - loss: 222.3630 - val_loss: 244.6433\n",
            "Epoch 40/200\n",
            "26/26 [==============================] - 0s 4ms/step - loss: 222.3191 - val_loss: 243.3687\n",
            "Epoch 41/200\n",
            "26/26 [==============================] - 0s 4ms/step - loss: 222.1618 - val_loss: 250.1021\n",
            "Epoch 42/200\n",
            "26/26 [==============================] - 0s 5ms/step - loss: 220.7287 - val_loss: 242.2734\n",
            "Epoch 43/200\n",
            "26/26 [==============================] - 0s 5ms/step - loss: 229.6004 - val_loss: 242.1673\n",
            "Epoch 44/200\n",
            "26/26 [==============================] - 0s 4ms/step - loss: 218.1631 - val_loss: 246.2123\n",
            "Epoch 45/200\n",
            "26/26 [==============================] - 0s 4ms/step - loss: 222.2238 - val_loss: 251.2605\n",
            "Epoch 46/200\n",
            "26/26 [==============================] - 0s 4ms/step - loss: 225.4536 - val_loss: 262.0484\n",
            "Epoch 47/200\n",
            "26/26 [==============================] - 0s 4ms/step - loss: 226.1994 - val_loss: 266.2673\n",
            "Epoch 48/200\n",
            "26/26 [==============================] - 0s 4ms/step - loss: 224.9967 - val_loss: 242.4780\n",
            "Epoch 49/200\n",
            "26/26 [==============================] - 0s 4ms/step - loss: 219.7459 - val_loss: 243.1471\n",
            "Epoch 50/200\n",
            "26/26 [==============================] - 0s 4ms/step - loss: 214.3408 - val_loss: 240.2477\n",
            "Epoch 51/200\n",
            "26/26 [==============================] - 0s 8ms/step - loss: 216.2901 - val_loss: 238.7010\n",
            "Epoch 52/200\n",
            "26/26 [==============================] - 0s 6ms/step - loss: 215.9454 - val_loss: 256.3452\n",
            "Epoch 53/200\n",
            "26/26 [==============================] - 0s 6ms/step - loss: 217.9465 - val_loss: 236.7012\n",
            "Epoch 54/200\n",
            "26/26 [==============================] - 0s 6ms/step - loss: 215.2124 - val_loss: 245.9397\n",
            "Epoch 55/200\n",
            "26/26 [==============================] - 0s 6ms/step - loss: 214.1170 - val_loss: 236.2415\n",
            "Epoch 56/200\n",
            "26/26 [==============================] - 0s 6ms/step - loss: 211.2678 - val_loss: 241.8176\n",
            "Epoch 57/200\n",
            "26/26 [==============================] - 0s 6ms/step - loss: 211.7310 - val_loss: 236.0342\n",
            "Epoch 58/200\n",
            "26/26 [==============================] - 0s 6ms/step - loss: 210.2228 - val_loss: 235.3757\n",
            "Epoch 59/200\n",
            "26/26 [==============================] - 0s 8ms/step - loss: 214.7871 - val_loss: 239.0489\n",
            "Epoch 60/200\n",
            "26/26 [==============================] - 0s 6ms/step - loss: 209.5006 - val_loss: 238.6500\n",
            "Epoch 61/200\n",
            "26/26 [==============================] - 0s 6ms/step - loss: 211.9931 - val_loss: 250.9516\n",
            "Epoch 62/200\n",
            "26/26 [==============================] - 0s 6ms/step - loss: 208.9179 - val_loss: 240.5055\n",
            "Epoch 63/200\n",
            "26/26 [==============================] - 0s 6ms/step - loss: 214.1059 - val_loss: 233.2256\n",
            "Epoch 64/200\n",
            "26/26 [==============================] - 0s 6ms/step - loss: 207.7571 - val_loss: 233.6727\n",
            "Epoch 65/200\n",
            "26/26 [==============================] - 0s 6ms/step - loss: 204.8883 - val_loss: 232.0910\n",
            "Epoch 66/200\n",
            "26/26 [==============================] - 0s 6ms/step - loss: 206.3384 - val_loss: 231.6749\n",
            "Epoch 67/200\n",
            "26/26 [==============================] - 0s 6ms/step - loss: 205.3670 - val_loss: 230.6347\n",
            "Epoch 68/200\n",
            "26/26 [==============================] - 0s 6ms/step - loss: 204.3359 - val_loss: 234.2819\n",
            "Epoch 69/200\n",
            "26/26 [==============================] - 0s 6ms/step - loss: 208.4247 - val_loss: 241.2786\n",
            "Epoch 70/200\n",
            "26/26 [==============================] - 0s 6ms/step - loss: 207.7149 - val_loss: 231.1324\n",
            "Epoch 71/200\n",
            "26/26 [==============================] - 0s 6ms/step - loss: 205.9171 - val_loss: 229.7547\n",
            "Epoch 72/200\n",
            "26/26 [==============================] - 0s 7ms/step - loss: 201.6249 - val_loss: 239.1133\n",
            "Epoch 73/200\n",
            "26/26 [==============================] - 0s 7ms/step - loss: 205.2118 - val_loss: 235.7253\n",
            "Epoch 74/200\n",
            "26/26 [==============================] - 0s 6ms/step - loss: 205.8211 - val_loss: 230.2625\n",
            "Epoch 75/200\n",
            "26/26 [==============================] - 0s 5ms/step - loss: 202.7675 - val_loss: 228.5652\n",
            "Epoch 76/200\n",
            "26/26 [==============================] - 0s 4ms/step - loss: 201.2613 - val_loss: 229.2537\n",
            "Epoch 77/200\n",
            "26/26 [==============================] - 0s 4ms/step - loss: 199.6641 - val_loss: 228.3201\n",
            "Epoch 78/200\n",
            "26/26 [==============================] - 0s 5ms/step - loss: 203.3146 - val_loss: 227.7055\n",
            "Epoch 79/200\n",
            "26/26 [==============================] - 0s 5ms/step - loss: 202.3435 - val_loss: 231.4305\n",
            "Epoch 80/200\n",
            "26/26 [==============================] - 0s 4ms/step - loss: 203.4577 - val_loss: 231.6291\n",
            "Epoch 81/200\n",
            "26/26 [==============================] - 0s 5ms/step - loss: 202.4774 - val_loss: 226.6670\n",
            "Epoch 82/200\n",
            "26/26 [==============================] - 0s 4ms/step - loss: 203.6654 - val_loss: 244.9853\n",
            "Epoch 83/200\n",
            "26/26 [==============================] - 0s 4ms/step - loss: 213.9411 - val_loss: 254.0577\n",
            "Epoch 84/200\n",
            "26/26 [==============================] - 0s 5ms/step - loss: 207.2440 - val_loss: 227.0991\n",
            "Epoch 85/200\n",
            "26/26 [==============================] - 0s 5ms/step - loss: 202.1630 - val_loss: 229.9948\n",
            "Epoch 86/200\n",
            "26/26 [==============================] - 0s 4ms/step - loss: 202.1894 - val_loss: 229.2984\n",
            "Epoch 87/200\n",
            "26/26 [==============================] - 0s 5ms/step - loss: 201.4788 - val_loss: 229.5923\n",
            "Epoch 88/200\n",
            "26/26 [==============================] - 0s 5ms/step - loss: 203.7036 - val_loss: 225.8068\n",
            "Epoch 89/200\n",
            "26/26 [==============================] - 0s 4ms/step - loss: 213.8802 - val_loss: 228.5402\n",
            "Epoch 90/200\n",
            "26/26 [==============================] - 0s 5ms/step - loss: 205.5230 - val_loss: 227.4971\n",
            "Epoch 91/200\n",
            "26/26 [==============================] - 0s 4ms/step - loss: 202.3169 - val_loss: 230.3671\n",
            "Epoch 92/200\n",
            "26/26 [==============================] - 0s 4ms/step - loss: 197.7214 - val_loss: 229.3820\n",
            "Epoch 93/200\n",
            "26/26 [==============================] - 0s 4ms/step - loss: 201.2869 - val_loss: 227.1108\n",
            "Epoch 94/200\n",
            "26/26 [==============================] - 0s 4ms/step - loss: 203.1096 - val_loss: 229.5124\n",
            "Epoch 95/200\n",
            "26/26 [==============================] - 0s 5ms/step - loss: 199.1540 - val_loss: 229.7258\n",
            "Epoch 96/200\n",
            "26/26 [==============================] - 0s 5ms/step - loss: 199.7452 - val_loss: 226.3033\n",
            "Epoch 97/200\n",
            "26/26 [==============================] - 0s 5ms/step - loss: 204.8217 - val_loss: 227.3978\n",
            "Epoch 98/200\n",
            "26/26 [==============================] - 0s 4ms/step - loss: 198.3687 - val_loss: 225.7340\n",
            "Epoch 99/200\n",
            "26/26 [==============================] - 0s 5ms/step - loss: 196.4339 - val_loss: 250.0213\n",
            "Epoch 100/200\n",
            "26/26 [==============================] - 0s 4ms/step - loss: 217.8625 - val_loss: 232.3783\n",
            "Epoch 101/200\n",
            "26/26 [==============================] - 0s 5ms/step - loss: 198.4782 - val_loss: 225.3495\n",
            "Epoch 102/200\n",
            "26/26 [==============================] - 0s 4ms/step - loss: 198.5823 - val_loss: 228.5617\n",
            "Epoch 103/200\n",
            "26/26 [==============================] - 0s 4ms/step - loss: 199.8611 - val_loss: 225.6723\n",
            "Epoch 104/200\n",
            "26/26 [==============================] - 0s 5ms/step - loss: 201.5918 - val_loss: 225.7243\n",
            "Epoch 105/200\n",
            "26/26 [==============================] - 0s 4ms/step - loss: 197.9239 - val_loss: 225.7605\n",
            "Epoch 106/200\n",
            "26/26 [==============================] - 0s 4ms/step - loss: 198.0726 - val_loss: 226.8055\n",
            "Epoch 107/200\n",
            "26/26 [==============================] - 0s 5ms/step - loss: 199.5521 - val_loss: 225.6588\n",
            "Epoch 108/200\n",
            "26/26 [==============================] - 0s 5ms/step - loss: 200.6149 - val_loss: 224.8613\n",
            "Epoch 109/200\n",
            "26/26 [==============================] - 0s 5ms/step - loss: 197.0300 - val_loss: 224.3641\n",
            "Epoch 110/200\n",
            "26/26 [==============================] - 0s 5ms/step - loss: 196.7952 - val_loss: 226.4384\n",
            "Epoch 111/200\n",
            "26/26 [==============================] - 0s 4ms/step - loss: 200.4773 - val_loss: 225.7267\n",
            "Epoch 112/200\n",
            "26/26 [==============================] - 0s 5ms/step - loss: 200.3823 - val_loss: 225.0268\n",
            "Epoch 113/200\n",
            "26/26 [==============================] - 0s 5ms/step - loss: 199.5496 - val_loss: 227.9900\n",
            "Epoch 114/200\n",
            "26/26 [==============================] - 0s 4ms/step - loss: 198.1037 - val_loss: 230.2041\n",
            "Epoch 115/200\n",
            "26/26 [==============================] - 0s 4ms/step - loss: 195.8138 - val_loss: 225.4274\n",
            "Epoch 116/200\n",
            "26/26 [==============================] - 0s 4ms/step - loss: 199.5588 - val_loss: 227.2524\n",
            "Epoch 117/200\n",
            "26/26 [==============================] - 0s 5ms/step - loss: 202.1960 - val_loss: 226.2191\n",
            "Epoch 118/200\n",
            "26/26 [==============================] - 0s 4ms/step - loss: 207.1442 - val_loss: 224.1754\n",
            "Epoch 119/200\n",
            "26/26 [==============================] - 0s 5ms/step - loss: 201.1746 - val_loss: 225.7286\n",
            "Epoch 120/200\n",
            "26/26 [==============================] - 0s 5ms/step - loss: 200.0858 - val_loss: 229.8969\n",
            "Epoch 121/200\n",
            "26/26 [==============================] - 0s 5ms/step - loss: 199.3263 - val_loss: 225.5293\n",
            "Epoch 122/200\n",
            "26/26 [==============================] - 0s 4ms/step - loss: 200.7815 - val_loss: 224.5628\n",
            "Epoch 123/200\n",
            "26/26 [==============================] - 0s 4ms/step - loss: 197.8001 - val_loss: 224.0486\n",
            "Epoch 124/200\n",
            "26/26 [==============================] - 0s 4ms/step - loss: 201.6258 - val_loss: 223.9810\n",
            "Epoch 125/200\n",
            "26/26 [==============================] - 0s 4ms/step - loss: 196.3023 - val_loss: 224.8369\n",
            "Epoch 126/200\n",
            "26/26 [==============================] - 0s 5ms/step - loss: 205.3765 - val_loss: 226.9261\n",
            "Epoch 127/200\n",
            "26/26 [==============================] - 0s 4ms/step - loss: 209.4105 - val_loss: 227.5581\n",
            "Epoch 128/200\n",
            "26/26 [==============================] - 0s 4ms/step - loss: 199.5070 - val_loss: 230.6790\n",
            "Epoch 129/200\n",
            "26/26 [==============================] - 0s 5ms/step - loss: 203.2608 - val_loss: 226.2470\n",
            "Epoch 130/200\n",
            "26/26 [==============================] - 0s 5ms/step - loss: 199.7993 - val_loss: 225.7086\n",
            "Epoch 131/200\n",
            "26/26 [==============================] - 0s 5ms/step - loss: 198.4334 - val_loss: 223.4950\n",
            "Epoch 132/200\n",
            "26/26 [==============================] - 0s 4ms/step - loss: 198.2410 - val_loss: 223.9169\n",
            "Epoch 133/200\n",
            "26/26 [==============================] - 0s 5ms/step - loss: 195.8405 - val_loss: 227.8177\n",
            "Epoch 134/200\n",
            "26/26 [==============================] - 0s 5ms/step - loss: 197.7207 - val_loss: 230.5724\n",
            "Epoch 135/200\n",
            "26/26 [==============================] - 0s 5ms/step - loss: 200.6494 - val_loss: 232.1196\n",
            "Epoch 136/200\n",
            "26/26 [==============================] - 0s 4ms/step - loss: 198.5643 - val_loss: 223.3549\n",
            "Epoch 137/200\n",
            "26/26 [==============================] - 0s 5ms/step - loss: 194.7393 - val_loss: 224.8812\n",
            "Epoch 138/200\n",
            "26/26 [==============================] - 0s 4ms/step - loss: 198.2743 - val_loss: 225.8174\n",
            "Epoch 139/200\n",
            "26/26 [==============================] - 0s 4ms/step - loss: 200.0872 - val_loss: 225.7530\n",
            "Epoch 140/200\n",
            "26/26 [==============================] - 0s 5ms/step - loss: 200.1348 - val_loss: 223.6058\n",
            "Epoch 141/200\n",
            "26/26 [==============================] - 0s 4ms/step - loss: 196.3399 - val_loss: 225.4561\n",
            "Epoch 142/200\n",
            "26/26 [==============================] - 0s 4ms/step - loss: 201.5744 - val_loss: 225.1129\n",
            "Epoch 143/200\n",
            "26/26 [==============================] - 0s 4ms/step - loss: 195.5851 - val_loss: 225.1186\n",
            "Epoch 144/200\n",
            "26/26 [==============================] - 0s 4ms/step - loss: 196.0466 - val_loss: 228.2090\n",
            "Epoch 145/200\n",
            "26/26 [==============================] - 0s 5ms/step - loss: 210.6007 - val_loss: 224.1579\n",
            "Epoch 146/200\n",
            "26/26 [==============================] - 0s 4ms/step - loss: 216.7383 - val_loss: 235.0242\n",
            "Epoch 147/200\n",
            "26/26 [==============================] - 0s 5ms/step - loss: 202.2523 - val_loss: 225.3494\n",
            "Epoch 148/200\n",
            "26/26 [==============================] - 0s 4ms/step - loss: 196.2495 - val_loss: 223.5935\n",
            "Epoch 149/200\n",
            "26/26 [==============================] - 0s 4ms/step - loss: 199.9071 - val_loss: 233.3549\n",
            "Epoch 150/200\n",
            "26/26 [==============================] - 0s 4ms/step - loss: 202.0124 - val_loss: 225.2902\n",
            "Epoch 151/200\n",
            "26/26 [==============================] - 0s 4ms/step - loss: 195.0687 - val_loss: 224.4532\n",
            "Epoch 152/200\n",
            "26/26 [==============================] - 0s 5ms/step - loss: 197.1276 - val_loss: 223.6215\n",
            "Epoch 153/200\n",
            "26/26 [==============================] - 0s 5ms/step - loss: 194.8453 - val_loss: 223.0917\n",
            "Epoch 154/200\n",
            "26/26 [==============================] - 0s 4ms/step - loss: 199.8248 - val_loss: 222.9449\n",
            "Epoch 155/200\n",
            "26/26 [==============================] - 0s 5ms/step - loss: 196.0068 - val_loss: 225.3110\n",
            "Epoch 156/200\n",
            "26/26 [==============================] - 0s 6ms/step - loss: 204.2130 - val_loss: 224.2072\n",
            "Epoch 157/200\n",
            "26/26 [==============================] - 0s 7ms/step - loss: 199.3381 - val_loss: 228.4283\n",
            "Epoch 158/200\n",
            "26/26 [==============================] - 0s 8ms/step - loss: 197.6582 - val_loss: 223.6305\n",
            "Epoch 159/200\n",
            "26/26 [==============================] - 0s 6ms/step - loss: 196.2791 - val_loss: 225.1807\n",
            "Epoch 160/200\n",
            "26/26 [==============================] - 0s 8ms/step - loss: 206.0787 - val_loss: 227.0055\n",
            "Epoch 161/200\n",
            "26/26 [==============================] - 0s 8ms/step - loss: 198.9188 - val_loss: 221.6185\n",
            "Epoch 162/200\n",
            "26/26 [==============================] - 0s 8ms/step - loss: 195.4002 - val_loss: 222.5944\n",
            "Epoch 163/200\n",
            "26/26 [==============================] - 0s 6ms/step - loss: 197.7551 - val_loss: 223.4623\n",
            "Epoch 164/200\n",
            "26/26 [==============================] - 0s 6ms/step - loss: 194.0454 - val_loss: 223.7540\n",
            "Epoch 165/200\n",
            "26/26 [==============================] - 0s 7ms/step - loss: 198.3688 - val_loss: 222.7951\n",
            "Epoch 166/200\n",
            "26/26 [==============================] - 0s 7ms/step - loss: 195.5406 - val_loss: 226.8677\n",
            "Epoch 167/200\n",
            "26/26 [==============================] - 0s 6ms/step - loss: 196.5054 - val_loss: 221.7638\n",
            "Epoch 168/200\n",
            "26/26 [==============================] - 0s 6ms/step - loss: 196.2157 - val_loss: 224.5273\n",
            "Epoch 169/200\n",
            "26/26 [==============================] - 0s 7ms/step - loss: 194.4554 - val_loss: 225.0077\n",
            "Epoch 170/200\n",
            "26/26 [==============================] - 0s 7ms/step - loss: 195.2603 - val_loss: 221.3444\n",
            "Epoch 171/200\n",
            "26/26 [==============================] - 0s 7ms/step - loss: 195.3500 - val_loss: 221.5689\n",
            "Epoch 172/200\n",
            "26/26 [==============================] - 0s 6ms/step - loss: 197.9022 - val_loss: 236.9872\n",
            "Epoch 173/200\n",
            "26/26 [==============================] - 0s 6ms/step - loss: 199.1411 - val_loss: 222.5385\n",
            "Epoch 174/200\n",
            "26/26 [==============================] - 0s 6ms/step - loss: 195.5967 - val_loss: 225.9894\n",
            "Epoch 175/200\n",
            "26/26 [==============================] - 0s 6ms/step - loss: 195.0868 - val_loss: 223.0812\n",
            "Epoch 176/200\n",
            "26/26 [==============================] - 0s 7ms/step - loss: 196.2986 - val_loss: 231.6071\n",
            "Epoch 177/200\n",
            "26/26 [==============================] - 0s 7ms/step - loss: 199.0815 - val_loss: 222.9237\n",
            "Epoch 178/200\n",
            "26/26 [==============================] - 0s 6ms/step - loss: 195.2227 - val_loss: 223.3391\n",
            "Epoch 179/200\n",
            "26/26 [==============================] - 0s 5ms/step - loss: 196.0334 - val_loss: 223.5981\n",
            "Epoch 180/200\n",
            "26/26 [==============================] - 0s 5ms/step - loss: 194.5580 - val_loss: 221.9402\n",
            "Epoch 181/200\n",
            "26/26 [==============================] - 0s 4ms/step - loss: 196.8935 - val_loss: 221.3998\n",
            "Epoch 182/200\n",
            "26/26 [==============================] - 0s 4ms/step - loss: 195.5921 - val_loss: 226.4063\n",
            "Epoch 183/200\n",
            "26/26 [==============================] - 0s 4ms/step - loss: 196.2725 - val_loss: 232.5174\n",
            "Epoch 184/200\n",
            "26/26 [==============================] - 0s 5ms/step - loss: 202.8393 - val_loss: 223.8590\n",
            "Epoch 185/200\n",
            "26/26 [==============================] - 0s 4ms/step - loss: 195.7713 - val_loss: 223.0820\n",
            "Epoch 186/200\n",
            "26/26 [==============================] - 0s 5ms/step - loss: 194.0088 - val_loss: 222.5897\n",
            "Epoch 187/200\n",
            "26/26 [==============================] - 0s 5ms/step - loss: 196.7794 - val_loss: 224.9980\n",
            "Epoch 188/200\n",
            "26/26 [==============================] - 0s 4ms/step - loss: 197.8356 - val_loss: 221.1981\n",
            "Epoch 189/200\n",
            "26/26 [==============================] - 0s 4ms/step - loss: 194.6679 - val_loss: 223.3638\n",
            "Epoch 190/200\n",
            "26/26 [==============================] - 0s 5ms/step - loss: 194.3675 - val_loss: 221.6274\n",
            "Epoch 191/200\n",
            "26/26 [==============================] - 0s 5ms/step - loss: 197.4191 - val_loss: 220.8059\n",
            "Epoch 192/200\n",
            "26/26 [==============================] - 0s 4ms/step - loss: 192.5767 - val_loss: 221.2687\n",
            "Epoch 193/200\n",
            "26/26 [==============================] - 0s 4ms/step - loss: 194.3153 - val_loss: 222.3251\n",
            "Epoch 194/200\n",
            "26/26 [==============================] - 0s 5ms/step - loss: 193.3397 - val_loss: 221.3173\n",
            "Epoch 195/200\n",
            "26/26 [==============================] - 0s 4ms/step - loss: 194.1579 - val_loss: 223.0584\n",
            "Epoch 196/200\n",
            "26/26 [==============================] - 0s 4ms/step - loss: 197.3990 - val_loss: 220.8569\n",
            "Epoch 197/200\n",
            "26/26 [==============================] - 0s 4ms/step - loss: 195.6467 - val_loss: 221.7864\n",
            "Epoch 198/200\n",
            "26/26 [==============================] - 0s 5ms/step - loss: 197.9359 - val_loss: 230.2123\n",
            "Epoch 199/200\n",
            "26/26 [==============================] - 0s 4ms/step - loss: 197.6197 - val_loss: 225.7385\n",
            "Epoch 200/200\n",
            "26/26 [==============================] - 0s 4ms/step - loss: 196.4127 - val_loss: 220.9733\n"
          ]
        }
      ],
      "source": [
        "history = model1.fit(X_train, y_train, batch_size=32,epochs=200,validation_data=(X_test, y_test), verbose=1)"
      ],
      "id": "fe558bc4"
    },
    {
      "cell_type": "code",
      "execution_count": null,
      "metadata": {
        "colab": {
          "base_uri": "https://localhost:8080/",
          "height": 282
        },
        "id": "X1um3MhJYbEu",
        "outputId": "ea750fb2-01f9-49e3-fb5e-5b2ea19b7db3"
      },
      "outputs": [
        {
          "data": {
            "text/plain": [
              "<matplotlib.axes._subplots.AxesSubplot at 0x7fb44fff5070>"
            ]
          },
          "execution_count": 47,
          "metadata": {},
          "output_type": "execute_result"
        },
        {
          "data": {
            "image/png": "[encoded data removed]",
            "text/plain": [
              "<Figure size 432x288 with 1 Axes>"
            ]
          },
          "metadata": {},
          "output_type": "display_data"
        }
      ],
      "source": [
        "hist_data = pd.DataFrame(history.history)\n",
        "hist_data[['loss', 'val_loss']].plot()"
      ],
      "id": "X1um3MhJYbEu"
    },
    {
      "cell_type": "code",
      "execution_count": null,
      "metadata": {
        "colab": {
          "base_uri": "https://localhost:8080/"
        },
        "id": "cfe01f20",
        "outputId": "62b3698a-d879-4269-c458-e222920cb88e"
      },
      "outputs": [
        {
          "name": "stdout",
          "output_type": "stream",
          "text": [
            "7/7 [==============================] - 0s 2ms/step\n"
          ]
        }
      ],
      "source": [
        "y_pred2 = model1.predict(X_test)"
      ],
      "id": "cfe01f20"
    },
    {
      "cell_type": "code",
      "execution_count": null,
      "metadata": {
        "colab": {
          "base_uri": "https://localhost:8080/"
        },
        "id": "88e18f42",
        "outputId": "d426dc89-0cca-4489-93f0-bd144ece324c"
      },
      "outputs": [
        {
          "name": "stdout",
          "output_type": "stream",
          "text": [
            "R2 score is: 0.1884405159018659\n"
          ]
        }
      ],
      "source": [
        "print('R2 score is:',r2_score(y_test, y_pred2))"
      ],
      "id": "88e18f42"
    },
    {
      "cell_type": "code",
      "execution_count": null,
      "metadata": {
        "colab": {
          "base_uri": "https://localhost:8080/"
        },
        "id": "IuOML6mxaGin",
        "outputId": "c0aaaf8b-308c-47d3-e68e-bd3f6cc64d59"
      },
      "outputs": [
        {
          "name": "stdout",
          "output_type": "stream",
          "text": [
            "MSE is: 220.97337690240374\n"
          ]
        }
      ],
      "source": [
        "print('MSE is:',mean_squared_error(y_test, y_pred2))"
      ],
      "id": "IuOML6mxaGin"
    },
    {
      "cell_type": "code",
      "execution_count": null,
      "metadata": {
        "colab": {
          "base_uri": "https://localhost:8080/"
        },
        "id": "1bedd8cc",
        "outputId": "48a7aacb-f565-48cf-fd57-0743a66d5a74"
      },
      "outputs": [
        {
          "name": "stdout",
          "output_type": "stream",
          "text": [
            "(1014, 4, 1)\n"
          ]
        }
      ],
      "source": [
        "#X = X.to_numpy()\n",
        "x = X.values.reshape(X.shape[0], X.shape[1], 1)\n",
        "print(x.shape)"
      ],
      "id": "1bedd8cc"
    },
    {
      "cell_type": "code",
      "execution_count": null,
      "metadata": {
        "id": "1b39d472"
      },
      "outputs": [],
      "source": [
        "X_train, X_test, y_train, y_test = train_test_split(x, y, test_size = 0.2, random_state = 0)"
      ],
      "id": "1b39d472"
    },
    {
      "cell_type": "code",
      "execution_count": null,
      "metadata": {
        "colab": {
          "base_uri": "https://localhost:8080/"
        },
        "id": "96d0209a",
        "outputId": "080ea399-af19-4617-a24e-018e6f9ddb5d"
      },
      "outputs": [
        {
          "name": "stdout",
          "output_type": "stream",
          "text": [
            "Model: \"sequential_1\"\n",
            "_________________________________________________________________\n",
            " Layer (type)                Output Shape              Param #   \n",
            "=================================================================\n",
            " conv1d (Conv1D)             (None, 3, 32)             96        \n",
            "                                                                 \n",
            " flatten (Flatten)           (None, 96)                0         \n",
            "                                                                 \n",
            " dense_3 (Dense)             (None, 64)                6208      \n",
            "                                                                 \n",
            " dense_4 (Dense)             (None, 2)                 130       \n",
            "                                                                 \n",
            "=================================================================\n",
            "Total params: 6,434\n",
            "Trainable params: 6,434\n",
            "Non-trainable params: 0\n",
            "_________________________________________________________________\n"
          ]
        }
      ],
      "source": [
        "model2 = Sequential()\n",
        "model2.add(Conv1D(32, 2, activation=\"relu\", input_shape=(4, 1)))\n",
        "model2.add(Flatten())\n",
        "model2.add(Dense(64, activation=\"relu\"))\n",
        "model2.add(Dense(2, activation=\"linear\"))\n",
        "model2.compile(loss=\"mse\", optimizer=\"adam\")\n",
        "model2.summary()"
      ],
      "id": "96d0209a"
    },
    {
      "cell_type": "code",
      "execution_count": null,
      "metadata": {
        "colab": {
          "base_uri": "https://localhost:8080/"
        },
        "id": "406fd6eb",
        "outputId": "3de0f8df-33b5-4da7-e6d7-c21ac8fa7a4b"
      },
      "outputs": [
        {
          "name": "stdout",
          "output_type": "stream",
          "text": [
            "Epoch 1/200\n",
            "26/26 [==============================] - 6s 11ms/step - loss: 2651.7327 - val_loss: 317.5762\n",
            "Epoch 2/200\n",
            "26/26 [==============================] - 0s 5ms/step - loss: 363.3779 - val_loss: 287.7350\n",
            "Epoch 3/200\n",
            "26/26 [==============================] - 0s 5ms/step - loss: 278.4419 - val_loss: 280.8053\n",
            "Epoch 4/200\n",
            "26/26 [==============================] - 0s 5ms/step - loss: 267.2792 - val_loss: 274.4067\n",
            "Epoch 5/200\n",
            "26/26 [==============================] - 0s 5ms/step - loss: 259.2188 - val_loss: 267.2513\n",
            "Epoch 6/200\n",
            "26/26 [==============================] - 0s 5ms/step - loss: 251.8828 - val_loss: 263.2420\n",
            "Epoch 7/200\n",
            "26/26 [==============================] - 0s 5ms/step - loss: 245.0067 - val_loss: 256.7135\n",
            "Epoch 8/200\n",
            "26/26 [==============================] - 0s 5ms/step - loss: 240.3193 - val_loss: 253.5027\n",
            "Epoch 9/200\n",
            "26/26 [==============================] - 0s 5ms/step - loss: 235.9444 - val_loss: 251.0939\n",
            "Epoch 10/200\n",
            "26/26 [==============================] - 0s 5ms/step - loss: 234.3488 - val_loss: 251.0014\n",
            "Epoch 11/200\n",
            "26/26 [==============================] - 0s 5ms/step - loss: 231.0610 - val_loss: 247.6696\n",
            "Epoch 12/200\n",
            "26/26 [==============================] - 0s 5ms/step - loss: 227.6783 - val_loss: 249.1809\n",
            "Epoch 13/200\n",
            "26/26 [==============================] - 0s 5ms/step - loss: 227.5765 - val_loss: 246.5769\n",
            "Epoch 14/200\n",
            "26/26 [==============================] - 0s 5ms/step - loss: 226.4247 - val_loss: 245.8510\n",
            "Epoch 15/200\n",
            "26/26 [==============================] - 0s 5ms/step - loss: 224.7088 - val_loss: 246.5092\n",
            "Epoch 16/200\n",
            "26/26 [==============================] - 0s 5ms/step - loss: 226.2390 - val_loss: 243.9064\n",
            "Epoch 17/200\n",
            "26/26 [==============================] - 0s 5ms/step - loss: 221.5932 - val_loss: 244.1110\n",
            "Epoch 18/200\n",
            "26/26 [==============================] - 0s 5ms/step - loss: 222.3030 - val_loss: 242.4258\n",
            "Epoch 19/200\n",
            "26/26 [==============================] - 0s 5ms/step - loss: 220.8596 - val_loss: 242.9316\n",
            "Epoch 20/200\n",
            "26/26 [==============================] - 0s 5ms/step - loss: 223.1847 - val_loss: 241.1583\n",
            "Epoch 21/200\n",
            "26/26 [==============================] - 0s 5ms/step - loss: 219.5193 - val_loss: 240.5895\n",
            "Epoch 22/200\n",
            "26/26 [==============================] - 0s 4ms/step - loss: 218.8554 - val_loss: 244.7687\n",
            "Epoch 23/200\n",
            "26/26 [==============================] - 0s 6ms/step - loss: 222.2922 - val_loss: 239.3311\n",
            "Epoch 24/200\n",
            "26/26 [==============================] - 0s 5ms/step - loss: 217.4368 - val_loss: 238.8475\n",
            "Epoch 25/200\n",
            "26/26 [==============================] - 0s 5ms/step - loss: 215.2827 - val_loss: 239.9440\n",
            "Epoch 26/200\n",
            "26/26 [==============================] - 0s 6ms/step - loss: 215.2087 - val_loss: 249.7024\n",
            "Epoch 27/200\n",
            "26/26 [==============================] - 0s 9ms/step - loss: 217.9002 - val_loss: 237.7587\n",
            "Epoch 28/200\n",
            "26/26 [==============================] - 0s 8ms/step - loss: 213.6605 - val_loss: 237.1190\n",
            "Epoch 29/200\n",
            "26/26 [==============================] - 0s 7ms/step - loss: 217.9572 - val_loss: 242.0624\n",
            "Epoch 30/200\n",
            "26/26 [==============================] - 0s 7ms/step - loss: 215.2820 - val_loss: 244.6359\n",
            "Epoch 31/200\n",
            "26/26 [==============================] - 0s 9ms/step - loss: 217.6902 - val_loss: 237.0050\n",
            "Epoch 32/200\n",
            "26/26 [==============================] - 0s 9ms/step - loss: 214.9490 - val_loss: 235.7295\n",
            "Epoch 33/200\n",
            "26/26 [==============================] - 0s 7ms/step - loss: 211.9791 - val_loss: 236.2096\n",
            "Epoch 34/200\n",
            "26/26 [==============================] - 0s 9ms/step - loss: 212.0356 - val_loss: 235.9938\n",
            "Epoch 35/200\n",
            "26/26 [==============================] - 0s 8ms/step - loss: 209.8639 - val_loss: 235.4984\n",
            "Epoch 36/200\n",
            "26/26 [==============================] - 0s 7ms/step - loss: 209.8239 - val_loss: 234.5829\n",
            "Epoch 37/200\n",
            "26/26 [==============================] - 0s 9ms/step - loss: 210.6740 - val_loss: 234.2665\n",
            "Epoch 38/200\n",
            "26/26 [==============================] - 0s 9ms/step - loss: 213.2738 - val_loss: 240.2785\n",
            "Epoch 39/200\n",
            "26/26 [==============================] - 0s 9ms/step - loss: 213.6122 - val_loss: 234.4767\n",
            "Epoch 40/200\n",
            "26/26 [==============================] - 0s 8ms/step - loss: 208.4335 - val_loss: 232.5701\n",
            "Epoch 41/200\n",
            "26/26 [==============================] - 0s 7ms/step - loss: 208.8551 - val_loss: 236.5596\n",
            "Epoch 42/200\n",
            "26/26 [==============================] - 0s 8ms/step - loss: 212.4455 - val_loss: 232.2322\n",
            "Epoch 43/200\n",
            "26/26 [==============================] - 0s 7ms/step - loss: 208.4417 - val_loss: 231.7596\n",
            "Epoch 44/200\n",
            "26/26 [==============================] - 0s 7ms/step - loss: 206.9935 - val_loss: 233.6165\n",
            "Epoch 45/200\n",
            "26/26 [==============================] - 0s 7ms/step - loss: 206.0871 - val_loss: 232.4402\n",
            "Epoch 46/200\n",
            "26/26 [==============================] - 0s 5ms/step - loss: 204.7680 - val_loss: 235.9251\n",
            "Epoch 47/200\n",
            "26/26 [==============================] - 0s 6ms/step - loss: 204.5153 - val_loss: 239.0914\n",
            "Epoch 48/200\n",
            "26/26 [==============================] - 0s 5ms/step - loss: 205.0977 - val_loss: 232.3974\n",
            "Epoch 49/200\n",
            "26/26 [==============================] - 0s 5ms/step - loss: 205.4723 - val_loss: 231.1778\n",
            "Epoch 50/200\n",
            "26/26 [==============================] - 0s 5ms/step - loss: 204.2671 - val_loss: 230.7917\n",
            "Epoch 51/200\n",
            "26/26 [==============================] - 0s 6ms/step - loss: 204.5229 - val_loss: 229.3888\n",
            "Epoch 52/200\n",
            "26/26 [==============================] - 0s 5ms/step - loss: 203.6333 - val_loss: 230.7016\n",
            "Epoch 53/200\n",
            "26/26 [==============================] - 0s 5ms/step - loss: 204.2662 - val_loss: 231.0206\n",
            "Epoch 54/200\n",
            "26/26 [==============================] - 0s 5ms/step - loss: 206.2795 - val_loss: 232.5872\n",
            "Epoch 55/200\n",
            "26/26 [==============================] - 0s 5ms/step - loss: 202.9575 - val_loss: 230.3301\n",
            "Epoch 56/200\n",
            "26/26 [==============================] - 0s 4ms/step - loss: 204.6351 - val_loss: 227.3212\n",
            "Epoch 57/200\n",
            "26/26 [==============================] - 0s 5ms/step - loss: 202.7719 - val_loss: 227.9388\n",
            "Epoch 58/200\n",
            "26/26 [==============================] - 0s 5ms/step - loss: 203.0977 - val_loss: 229.9977\n",
            "Epoch 59/200\n",
            "26/26 [==============================] - 0s 5ms/step - loss: 212.7130 - val_loss: 231.6559\n",
            "Epoch 60/200\n",
            "26/26 [==============================] - 0s 5ms/step - loss: 201.3232 - val_loss: 226.9549\n",
            "Epoch 61/200\n",
            "26/26 [==============================] - 0s 5ms/step - loss: 203.6601 - val_loss: 227.0820\n",
            "Epoch 62/200\n",
            "26/26 [==============================] - 0s 5ms/step - loss: 199.1706 - val_loss: 229.5597\n",
            "Epoch 63/200\n",
            "26/26 [==============================] - 0s 5ms/step - loss: 205.6444 - val_loss: 238.8164\n",
            "Epoch 64/200\n",
            "26/26 [==============================] - 0s 5ms/step - loss: 203.2399 - val_loss: 225.8499\n",
            "Epoch 65/200\n",
            "26/26 [==============================] - 0s 5ms/step - loss: 200.0393 - val_loss: 226.5252\n",
            "Epoch 66/200\n",
            "26/26 [==============================] - 0s 5ms/step - loss: 201.0049 - val_loss: 228.8141\n",
            "Epoch 67/200\n",
            "26/26 [==============================] - 0s 5ms/step - loss: 207.8443 - val_loss: 225.6671\n",
            "Epoch 68/200\n",
            "26/26 [==============================] - 0s 5ms/step - loss: 201.3365 - val_loss: 226.7467\n",
            "Epoch 69/200\n",
            "26/26 [==============================] - 0s 5ms/step - loss: 198.3924 - val_loss: 232.5901\n",
            "Epoch 70/200\n",
            "26/26 [==============================] - 0s 5ms/step - loss: 200.5013 - val_loss: 225.2025\n",
            "Epoch 71/200\n",
            "26/26 [==============================] - 0s 5ms/step - loss: 199.1722 - val_loss: 225.8978\n",
            "Epoch 72/200\n",
            "26/26 [==============================] - 0s 5ms/step - loss: 200.1551 - val_loss: 224.6134\n",
            "Epoch 73/200\n",
            "26/26 [==============================] - 0s 5ms/step - loss: 198.8011 - val_loss: 223.6250\n",
            "Epoch 74/200\n",
            "26/26 [==============================] - 0s 6ms/step - loss: 201.3009 - val_loss: 225.6090\n",
            "Epoch 75/200\n",
            "26/26 [==============================] - 0s 5ms/step - loss: 203.8432 - val_loss: 224.5116\n",
            "Epoch 76/200\n",
            "26/26 [==============================] - 0s 5ms/step - loss: 197.2214 - val_loss: 225.2180\n",
            "Epoch 77/200\n",
            "26/26 [==============================] - 0s 5ms/step - loss: 201.5191 - val_loss: 221.8039\n",
            "Epoch 78/200\n",
            "26/26 [==============================] - 0s 5ms/step - loss: 200.4861 - val_loss: 222.3738\n",
            "Epoch 79/200\n",
            "26/26 [==============================] - 0s 5ms/step - loss: 197.8507 - val_loss: 222.6622\n",
            "Epoch 80/200\n",
            "26/26 [==============================] - 0s 5ms/step - loss: 195.8511 - val_loss: 221.2923\n",
            "Epoch 81/200\n",
            "26/26 [==============================] - 0s 5ms/step - loss: 199.0056 - val_loss: 223.6969\n",
            "Epoch 82/200\n",
            "26/26 [==============================] - 0s 5ms/step - loss: 206.2293 - val_loss: 250.4937\n",
            "Epoch 83/200\n",
            "26/26 [==============================] - 0s 5ms/step - loss: 210.7342 - val_loss: 221.2336\n",
            "Epoch 84/200\n",
            "26/26 [==============================] - 0s 5ms/step - loss: 195.2591 - val_loss: 227.3317\n",
            "Epoch 85/200\n",
            "26/26 [==============================] - 0s 5ms/step - loss: 199.4692 - val_loss: 222.0494\n",
            "Epoch 86/200\n",
            "26/26 [==============================] - 0s 5ms/step - loss: 202.2554 - val_loss: 225.4397\n",
            "Epoch 87/200\n",
            "26/26 [==============================] - 0s 5ms/step - loss: 195.8691 - val_loss: 224.8995\n",
            "Epoch 88/200\n",
            "26/26 [==============================] - 0s 5ms/step - loss: 196.4291 - val_loss: 223.7015\n",
            "Epoch 89/200\n",
            "26/26 [==============================] - 0s 5ms/step - loss: 198.5679 - val_loss: 224.3673\n",
            "Epoch 90/200\n",
            "26/26 [==============================] - 0s 5ms/step - loss: 203.4475 - val_loss: 224.4129\n",
            "Epoch 91/200\n",
            "26/26 [==============================] - 0s 5ms/step - loss: 201.2162 - val_loss: 223.9393\n",
            "Epoch 92/200\n",
            "26/26 [==============================] - 0s 5ms/step - loss: 196.3705 - val_loss: 220.6142\n",
            "Epoch 93/200\n",
            "26/26 [==============================] - 0s 5ms/step - loss: 195.3709 - val_loss: 222.6522\n",
            "Epoch 94/200\n",
            "26/26 [==============================] - 0s 5ms/step - loss: 197.7315 - val_loss: 221.5298\n",
            "Epoch 95/200\n",
            "26/26 [==============================] - 0s 5ms/step - loss: 196.3463 - val_loss: 222.2080\n",
            "Epoch 96/200\n",
            "26/26 [==============================] - 0s 5ms/step - loss: 196.0067 - val_loss: 220.5370\n",
            "Epoch 97/200\n",
            "26/26 [==============================] - 0s 5ms/step - loss: 196.4641 - val_loss: 221.5249\n",
            "Epoch 98/200\n",
            "26/26 [==============================] - 0s 5ms/step - loss: 198.5597 - val_loss: 220.4359\n",
            "Epoch 99/200\n",
            "26/26 [==============================] - 0s 5ms/step - loss: 196.0111 - val_loss: 222.0617\n",
            "Epoch 100/200\n",
            "26/26 [==============================] - 0s 5ms/step - loss: 196.2388 - val_loss: 219.5681\n",
            "Epoch 101/200\n",
            "26/26 [==============================] - 0s 5ms/step - loss: 194.9590 - val_loss: 223.5318\n",
            "Epoch 102/200\n",
            "26/26 [==============================] - 0s 5ms/step - loss: 194.1346 - val_loss: 219.6750\n",
            "Epoch 103/200\n",
            "26/26 [==============================] - 0s 5ms/step - loss: 193.7489 - val_loss: 220.7163\n",
            "Epoch 104/200\n",
            "26/26 [==============================] - 0s 5ms/step - loss: 195.5386 - val_loss: 238.6690\n",
            "Epoch 105/200\n",
            "26/26 [==============================] - 0s 5ms/step - loss: 196.9873 - val_loss: 219.2708\n",
            "Epoch 106/200\n",
            "26/26 [==============================] - 0s 5ms/step - loss: 195.0112 - val_loss: 221.3012\n",
            "Epoch 107/200\n",
            "26/26 [==============================] - 0s 5ms/step - loss: 197.5107 - val_loss: 219.8681\n",
            "Epoch 108/200\n",
            "26/26 [==============================] - 0s 5ms/step - loss: 194.0782 - val_loss: 220.5226\n",
            "Epoch 109/200\n",
            "26/26 [==============================] - 0s 5ms/step - loss: 194.8690 - val_loss: 225.5532\n",
            "Epoch 110/200\n",
            "26/26 [==============================] - 0s 5ms/step - loss: 192.8947 - val_loss: 228.0343\n",
            "Epoch 111/200\n",
            "26/26 [==============================] - 0s 6ms/step - loss: 193.6997 - val_loss: 220.9848\n",
            "Epoch 112/200\n",
            "26/26 [==============================] - 0s 5ms/step - loss: 197.6949 - val_loss: 225.2369\n",
            "Epoch 113/200\n",
            "26/26 [==============================] - 0s 5ms/step - loss: 194.0893 - val_loss: 218.5361\n",
            "Epoch 114/200\n",
            "26/26 [==============================] - 0s 5ms/step - loss: 196.6730 - val_loss: 219.1083\n",
            "Epoch 115/200\n",
            "26/26 [==============================] - 0s 5ms/step - loss: 201.4098 - val_loss: 220.3973\n",
            "Epoch 116/200\n",
            "26/26 [==============================] - 0s 5ms/step - loss: 194.8318 - val_loss: 220.2725\n",
            "Epoch 117/200\n",
            "26/26 [==============================] - 0s 5ms/step - loss: 198.3011 - val_loss: 227.5222\n",
            "Epoch 118/200\n",
            "26/26 [==============================] - 0s 9ms/step - loss: 201.9995 - val_loss: 244.9429\n",
            "Epoch 119/200\n",
            "26/26 [==============================] - 0s 8ms/step - loss: 203.1508 - val_loss: 218.7046\n",
            "Epoch 120/200\n",
            "26/26 [==============================] - 0s 7ms/step - loss: 199.4761 - val_loss: 221.3681\n",
            "Epoch 121/200\n",
            "26/26 [==============================] - 0s 7ms/step - loss: 197.9365 - val_loss: 218.8659\n",
            "Epoch 122/200\n",
            "26/26 [==============================] - 0s 7ms/step - loss: 195.2850 - val_loss: 224.6787\n",
            "Epoch 123/200\n",
            "26/26 [==============================] - 0s 7ms/step - loss: 194.0803 - val_loss: 225.0868\n",
            "Epoch 124/200\n",
            "26/26 [==============================] - 0s 7ms/step - loss: 192.8178 - val_loss: 221.4059\n",
            "Epoch 125/200\n",
            "26/26 [==============================] - 0s 7ms/step - loss: 195.0134 - val_loss: 225.6795\n",
            "Epoch 126/200\n",
            "26/26 [==============================] - 0s 8ms/step - loss: 200.3771 - val_loss: 224.5218\n",
            "Epoch 127/200\n",
            "26/26 [==============================] - 0s 7ms/step - loss: 196.2379 - val_loss: 219.0426\n",
            "Epoch 128/200\n",
            "26/26 [==============================] - 0s 7ms/step - loss: 195.8578 - val_loss: 221.2918\n",
            "Epoch 129/200\n",
            "26/26 [==============================] - 0s 7ms/step - loss: 193.0407 - val_loss: 218.2060\n",
            "Epoch 130/200\n",
            "26/26 [==============================] - 0s 7ms/step - loss: 194.2433 - val_loss: 221.5704\n",
            "Epoch 131/200\n",
            "26/26 [==============================] - 0s 7ms/step - loss: 195.4375 - val_loss: 222.0115\n",
            "Epoch 132/200\n",
            "26/26 [==============================] - 0s 7ms/step - loss: 201.5125 - val_loss: 232.0135\n",
            "Epoch 133/200\n",
            "26/26 [==============================] - 0s 9ms/step - loss: 195.8511 - val_loss: 219.8458\n",
            "Epoch 134/200\n",
            "26/26 [==============================] - 0s 7ms/step - loss: 193.2822 - val_loss: 217.4538\n",
            "Epoch 135/200\n",
            "26/26 [==============================] - 0s 7ms/step - loss: 192.9661 - val_loss: 216.5924\n",
            "Epoch 136/200\n",
            "26/26 [==============================] - 0s 7ms/step - loss: 192.8514 - val_loss: 217.4635\n",
            "Epoch 137/200\n",
            "26/26 [==============================] - 0s 7ms/step - loss: 198.7305 - val_loss: 219.0088\n",
            "Epoch 138/200\n",
            "26/26 [==============================] - 0s 9ms/step - loss: 190.6947 - val_loss: 225.4905\n",
            "Epoch 139/200\n",
            "26/26 [==============================] - 0s 7ms/step - loss: 196.6528 - val_loss: 230.7487\n",
            "Epoch 140/200\n",
            "26/26 [==============================] - 0s 5ms/step - loss: 197.0947 - val_loss: 216.6620\n",
            "Epoch 141/200\n",
            "26/26 [==============================] - 0s 5ms/step - loss: 193.8454 - val_loss: 223.7464\n",
            "Epoch 142/200\n",
            "26/26 [==============================] - 0s 5ms/step - loss: 195.5473 - val_loss: 223.9433\n",
            "Epoch 143/200\n",
            "26/26 [==============================] - 0s 5ms/step - loss: 198.5322 - val_loss: 217.4669\n",
            "Epoch 144/200\n",
            "26/26 [==============================] - 0s 5ms/step - loss: 196.0385 - val_loss: 219.3658\n",
            "Epoch 145/200\n",
            "26/26 [==============================] - 0s 5ms/step - loss: 195.7791 - val_loss: 224.4526\n",
            "Epoch 146/200\n",
            "26/26 [==============================] - 0s 7ms/step - loss: 193.7903 - val_loss: 216.1792\n",
            "Epoch 147/200\n",
            "26/26 [==============================] - 0s 5ms/step - loss: 190.9154 - val_loss: 216.3421\n",
            "Epoch 148/200\n",
            "26/26 [==============================] - 0s 5ms/step - loss: 192.4947 - val_loss: 233.1523\n",
            "Epoch 149/200\n",
            "26/26 [==============================] - 0s 5ms/step - loss: 196.6559 - val_loss: 224.1994\n",
            "Epoch 150/200\n",
            "26/26 [==============================] - 0s 5ms/step - loss: 195.7071 - val_loss: 221.1332\n",
            "Epoch 151/200\n",
            "26/26 [==============================] - 0s 5ms/step - loss: 197.6709 - val_loss: 217.7705\n",
            "Epoch 152/200\n",
            "26/26 [==============================] - 0s 5ms/step - loss: 191.7321 - val_loss: 222.7995\n",
            "Epoch 153/200\n",
            "26/26 [==============================] - 0s 5ms/step - loss: 190.8076 - val_loss: 220.9556\n",
            "Epoch 154/200\n",
            "26/26 [==============================] - 0s 5ms/step - loss: 191.6223 - val_loss: 218.2715\n",
            "Epoch 155/200\n",
            "26/26 [==============================] - 0s 5ms/step - loss: 196.4122 - val_loss: 227.3371\n",
            "Epoch 156/200\n",
            "26/26 [==============================] - 0s 5ms/step - loss: 193.3608 - val_loss: 218.3313\n",
            "Epoch 157/200\n",
            "26/26 [==============================] - 0s 5ms/step - loss: 191.9912 - val_loss: 234.3591\n",
            "Epoch 158/200\n",
            "26/26 [==============================] - 0s 5ms/step - loss: 201.1036 - val_loss: 218.2556\n",
            "Epoch 159/200\n",
            "26/26 [==============================] - 0s 5ms/step - loss: 193.6886 - val_loss: 216.5592\n",
            "Epoch 160/200\n",
            "26/26 [==============================] - 0s 5ms/step - loss: 192.0692 - val_loss: 217.2171\n",
            "Epoch 161/200\n",
            "26/26 [==============================] - 0s 6ms/step - loss: 190.1732 - val_loss: 214.7903\n",
            "Epoch 162/200\n",
            "26/26 [==============================] - 0s 5ms/step - loss: 195.0408 - val_loss: 222.4731\n",
            "Epoch 163/200\n",
            "26/26 [==============================] - 0s 5ms/step - loss: 189.2667 - val_loss: 215.2374\n",
            "Epoch 164/200\n",
            "26/26 [==============================] - 0s 5ms/step - loss: 192.0075 - val_loss: 216.0733\n",
            "Epoch 165/200\n",
            "26/26 [==============================] - 0s 5ms/step - loss: 190.1467 - val_loss: 216.6693\n",
            "Epoch 166/200\n",
            "26/26 [==============================] - 0s 5ms/step - loss: 196.3650 - val_loss: 218.7890\n",
            "Epoch 167/200\n",
            "26/26 [==============================] - 0s 5ms/step - loss: 190.9038 - val_loss: 215.2817\n",
            "Epoch 168/200\n",
            "26/26 [==============================] - 0s 5ms/step - loss: 191.4461 - val_loss: 215.3700\n",
            "Epoch 169/200\n",
            "26/26 [==============================] - 0s 5ms/step - loss: 191.8028 - val_loss: 216.2717\n",
            "Epoch 170/200\n",
            "26/26 [==============================] - 0s 5ms/step - loss: 189.6747 - val_loss: 216.7690\n",
            "Epoch 171/200\n",
            "26/26 [==============================] - 0s 5ms/step - loss: 195.8375 - val_loss: 219.3059\n",
            "Epoch 172/200\n",
            "26/26 [==============================] - 0s 5ms/step - loss: 191.9982 - val_loss: 214.6018\n",
            "Epoch 173/200\n",
            "26/26 [==============================] - 0s 5ms/step - loss: 187.5985 - val_loss: 218.9956\n",
            "Epoch 174/200\n",
            "26/26 [==============================] - 0s 5ms/step - loss: 193.5487 - val_loss: 219.5809\n",
            "Epoch 175/200\n",
            "26/26 [==============================] - 0s 5ms/step - loss: 190.4488 - val_loss: 213.8192\n",
            "Epoch 176/200\n",
            "26/26 [==============================] - 0s 5ms/step - loss: 191.3672 - val_loss: 215.0230\n",
            "Epoch 177/200\n",
            "26/26 [==============================] - 0s 5ms/step - loss: 191.2026 - val_loss: 215.6190\n",
            "Epoch 178/200\n",
            "26/26 [==============================] - 0s 5ms/step - loss: 189.0995 - val_loss: 214.3452\n",
            "Epoch 179/200\n",
            "26/26 [==============================] - 0s 5ms/step - loss: 187.4990 - val_loss: 216.5441\n",
            "Epoch 180/200\n",
            "26/26 [==============================] - 0s 5ms/step - loss: 190.3155 - val_loss: 217.7302\n",
            "Epoch 181/200\n",
            "26/26 [==============================] - 0s 5ms/step - loss: 190.3315 - val_loss: 217.7720\n",
            "Epoch 182/200\n",
            "26/26 [==============================] - 0s 5ms/step - loss: 196.4769 - val_loss: 219.5897\n",
            "Epoch 183/200\n",
            "26/26 [==============================] - 0s 5ms/step - loss: 188.0479 - val_loss: 214.7744\n",
            "Epoch 184/200\n",
            "26/26 [==============================] - 0s 5ms/step - loss: 194.7835 - val_loss: 216.7884\n",
            "Epoch 185/200\n",
            "26/26 [==============================] - 0s 5ms/step - loss: 193.3667 - val_loss: 213.9561\n",
            "Epoch 186/200\n",
            "26/26 [==============================] - 0s 5ms/step - loss: 210.8578 - val_loss: 244.5485\n",
            "Epoch 187/200\n",
            "26/26 [==============================] - 0s 5ms/step - loss: 195.0961 - val_loss: 216.5185\n",
            "Epoch 188/200\n",
            "26/26 [==============================] - 0s 5ms/step - loss: 188.0576 - val_loss: 213.5978\n",
            "Epoch 189/200\n",
            "26/26 [==============================] - 0s 5ms/step - loss: 189.2382 - val_loss: 213.4099\n",
            "Epoch 190/200\n",
            "26/26 [==============================] - 0s 6ms/step - loss: 188.6337 - val_loss: 216.8975\n",
            "Epoch 191/200\n",
            "26/26 [==============================] - 0s 5ms/step - loss: 191.2678 - val_loss: 212.7815\n",
            "Epoch 192/200\n",
            "26/26 [==============================] - 0s 5ms/step - loss: 192.4590 - val_loss: 221.2895\n",
            "Epoch 193/200\n",
            "26/26 [==============================] - 0s 5ms/step - loss: 192.2966 - val_loss: 213.1290\n",
            "Epoch 194/200\n",
            "26/26 [==============================] - 0s 5ms/step - loss: 188.5508 - val_loss: 214.1868\n",
            "Epoch 195/200\n",
            "26/26 [==============================] - 0s 5ms/step - loss: 188.4062 - val_loss: 224.6454\n",
            "Epoch 196/200\n",
            "26/26 [==============================] - 0s 5ms/step - loss: 198.4836 - val_loss: 218.5811\n",
            "Epoch 197/200\n",
            "26/26 [==============================] - 0s 6ms/step - loss: 194.0599 - val_loss: 214.2301\n",
            "Epoch 198/200\n",
            "26/26 [==============================] - 0s 5ms/step - loss: 187.9758 - val_loss: 213.9312\n",
            "Epoch 199/200\n",
            "26/26 [==============================] - 0s 5ms/step - loss: 190.7553 - val_loss: 213.5887\n",
            "Epoch 200/200\n",
            "26/26 [==============================] - 0s 5ms/step - loss: 189.1398 - val_loss: 223.3538\n"
          ]
        }
      ],
      "source": [
        "history2 = model2.fit(X_train, y_train, batch_size=32,epochs=200, validation_data=(X_test, y_test), verbose=1)"
      ],
      "id": "406fd6eb"
    },
    {
      "cell_type": "code",
      "execution_count": null,
      "metadata": {
        "colab": {
          "base_uri": "https://localhost:8080/",
          "height": 282
        },
        "id": "Xb-aWBsEYlpm",
        "outputId": "ff1d5133-22db-48b5-c18e-baf188278702"
      },
      "outputs": [
        {
          "data": {
            "text/plain": [
              "<matplotlib.axes._subplots.AxesSubplot at 0x7fb44fb25b50>"
            ]
          },
          "execution_count": 55,
          "metadata": {},
          "output_type": "execute_result"
        },
        {
          "data": {
            "image/png": "[encoded data removed]",
            "text/plain": [
              "<Figure size 432x288 with 1 Axes>"
            ]
          },
          "metadata": {},
          "output_type": "display_data"
        }
      ],
      "source": [
        "hist_data2 = pd.DataFrame(history2.history)\n",
        "hist_data2[['loss', 'val_loss']].plot()"
      ],
      "id": "Xb-aWBsEYlpm"
    },
    {
      "cell_type": "code",
      "execution_count": null,
      "metadata": {
        "colab": {
          "base_uri": "https://localhost:8080/"
        },
        "id": "169866d6",
        "outputId": "3dd5c47c-805f-40b8-d6f2-4c6f69b4e28c"
      },
      "outputs": [
        {
          "name": "stdout",
          "output_type": "stream",
          "text": [
            "7/7 [==============================] - 0s 2ms/step\n"
          ]
        }
      ],
      "source": [
        "y_pred3 = model2.predict(X_test)"
      ],
      "id": "169866d6"
    },
    {
      "cell_type": "code",
      "execution_count": null,
      "metadata": {
        "colab": {
          "base_uri": "https://localhost:8080/"
        },
        "id": "3e688930",
        "outputId": "535479c9-0a38-4402-a0bb-8a381700012d"
      },
      "outputs": [
        {
          "name": "stdout",
          "output_type": "stream",
          "text": [
            "R2 score is: 0.18372891483629328\n"
          ]
        }
      ],
      "source": [
        "print('R2 score is:',r2_score(y_test, y_pred3))"
      ],
      "id": "3e688930"
    },
    {
      "cell_type": "code",
      "execution_count": null,
      "metadata": {
        "colab": {
          "base_uri": "https://localhost:8080/"
        },
        "id": "43debe18",
        "outputId": "fb334450-b141-48bc-fc6e-8067f191f0c6"
      },
      "outputs": [
        {
          "name": "stdout",
          "output_type": "stream",
          "text": [
            "MSE is: 223.35381700396272\n"
          ]
        }
      ],
      "source": [
        "print('MSE is:',mean_squared_error(y_test, y_pred3))"
      ],
      "id": "43debe18"
    },
    {
      "cell_type": "markdown",
      "metadata": {
        "id": "obYSAxeiaS_d"
      },
      "source": [
        "# Prediciton Function"
      ],
      "id": "obYSAxeiaS_d"
    },
    {
      "cell_type": "code",
      "execution_count": null,
      "metadata": {
        "colab": {
          "base_uri": "https://localhost:8080/"
        },
        "id": "9ba95c57",
        "outputId": "6e6963a7-4419-4e5b-a440-42a6329f6873"
      },
      "outputs": [
        {
          "name": "stdout",
          "output_type": "stream",
          "text": [
            "Enter Age: 48\n",
            "---------------------------------------------------------\n",
            "Enter Spo2: 96\n",
            "---------------------------------------------------------\n",
            "Enter HeartRate: 71\n",
            "---------------------------------------------------------\n",
            "Enter BodyTemp: 98\n",
            "---------------------------------------------------------\n",
            "Your predicted SystolicBP is: 120.0\n",
            "---------------------------------------------------------\n",
            "Your predicted DiastolicBP is: 79.0\n"
          ]
        }
      ],
      "source": [
        "data= int(input('Enter Age: '))\n",
        "print(\"---------------------------------------------------------\")\n",
        "data1= int(input('Enter Spo2: '))\n",
        "print(\"---------------------------------------------------------\")\n",
        "data2= int(input('Enter HeartRate: '))\n",
        "print(\"---------------------------------------------------------\")\n",
        "data3= float(input('Enter BodyTemp: '))\n",
        "print(\"---------------------------------------------------------\")\n",
        "\n",
        "test = [data,data1,data2,data3]\n",
        "test = np.asarray(test)\n",
        "test = test.reshape(1, -1)\n",
        "prediction = clf_tuned.predict(test)\n",
        "\n",
        "print('Your predicted SystolicBP is:' ,prediction[0][0])\n",
        "print(\"---------------------------------------------------------\")\n",
        "print('Your predicted DiastolicBP is:' ,prediction[0][1])\n",
        "\n"
      ],
      "id": "9ba95c57"
    },
    {
      "cell_type": "code",
      "execution_count": null,
      "metadata": {
        "id": "76dc1882"
      },
      "outputs": [],
      "source": [],
      "id": "76dc1882"
    }
  ],
  "metadata": {
    "accelerator": "GPU",
    "colab": {
      "provenance": [],
      "include_colab_link": true
    },
    "gpuClass": "standard",
    "kernelspec": {
      "display_name": "Python 3 (ipykernel)",
      "language": "python",
      "name": "python3"
    },
    "language_info": {
      "codemirror_mode": {
        "name": "ipython",
        "version": 3
      },
      "file_extension": ".py",
      "mimetype": "text/x-python",
      "name": "python",
      "nbconvert_exporter": "python",
      "pygments_lexer": "ipython3",
      "version": "3.9.12"
    }
  },
  "nbformat": 4,
  "nbformat_minor": 5
}